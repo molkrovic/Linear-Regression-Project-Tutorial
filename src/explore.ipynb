{
    "cells": [
        {
            "cell_type": "markdown",
            "metadata": {},
            "source": [
                "## Linear Regression Project Tutorial"
            ]
        },
        {
            "cell_type": "markdown",
            "metadata": {},
            "source": [
                "#### Predicting the medical insurance cost of a person"
            ]
        },
        {
            "cell_type": "markdown",
            "metadata": {},
            "source": [
                "**Importar librerías y cargar dataframe**"
            ]
        },
        {
            "cell_type": "code",
            "execution_count": 46,
            "metadata": {},
            "outputs": [],
            "source": [
                "import pandas as pd\n",
                "import numpy as np\n",
                "import matplotlib.pyplot as plt\n",
                "import plotly.express as px\n",
                "from sklearn.model_selection import train_test_split\n",
                "from sklearn.linear_model import LinearRegression\n",
                "from sklearn.metrics import mean_squared_error"
            ]
        },
        {
            "cell_type": "code",
            "execution_count": 47,
            "metadata": {},
            "outputs": [],
            "source": [
                "url = 'https://raw.githubusercontent.com/4GeeksAcademy/linear-regression-project-tutorial/main/medical_insurance_cost.csv'\n",
                "\n",
                "df = pd.read_csv(url)"
            ]
        },
        {
            "cell_type": "markdown",
            "metadata": {},
            "source": [
                "**Ver las variables y una muestra de su contenido**"
            ]
        },
        {
            "cell_type": "code",
            "execution_count": 48,
            "metadata": {},
            "outputs": [
                {
                    "name": "stdout",
                    "output_type": "stream",
                    "text": [
                        "<class 'pandas.core.frame.DataFrame'>\n",
                        "RangeIndex: 1338 entries, 0 to 1337\n",
                        "Data columns (total 7 columns):\n",
                        " #   Column    Non-Null Count  Dtype  \n",
                        "---  ------    --------------  -----  \n",
                        " 0   age       1338 non-null   int64  \n",
                        " 1   sex       1338 non-null   object \n",
                        " 2   bmi       1338 non-null   float64\n",
                        " 3   children  1338 non-null   int64  \n",
                        " 4   smoker    1338 non-null   object \n",
                        " 5   region    1338 non-null   object \n",
                        " 6   charges   1338 non-null   float64\n",
                        "dtypes: float64(2), int64(2), object(3)\n",
                        "memory usage: 73.3+ KB\n"
                    ]
                }
            ],
            "source": [
                "df.info()"
            ]
        },
        {
            "cell_type": "markdown",
            "metadata": {},
            "source": [
                "*Columns*\n",
                "\n",
                "- *age:* age of primary beneficiary\n",
                "- *sex:* insurance contractor gender, female or male\n",
                "- *bmi:* Body mass index\n",
                "- *children:* Number of children covered by health insurance / Number of dependents\n",
                "- *smoker:* Smoking\n",
                "- *region:* the beneficiary's residential area in the US, northeast, southeast, southwest, northwest.\n",
                "- *charges:* Individual medical costs billed by health insurance"
            ]
        },
        {
            "cell_type": "code",
            "execution_count": 49,
            "metadata": {},
            "outputs": [
                {
                    "data": {
                        "text/html": [
                            "<div>\n",
                            "<style scoped>\n",
                            "    .dataframe tbody tr th:only-of-type {\n",
                            "        vertical-align: middle;\n",
                            "    }\n",
                            "\n",
                            "    .dataframe tbody tr th {\n",
                            "        vertical-align: top;\n",
                            "    }\n",
                            "\n",
                            "    .dataframe thead th {\n",
                            "        text-align: right;\n",
                            "    }\n",
                            "</style>\n",
                            "<table border=\"1\" class=\"dataframe\">\n",
                            "  <thead>\n",
                            "    <tr style=\"text-align: right;\">\n",
                            "      <th></th>\n",
                            "      <th>age</th>\n",
                            "      <th>sex</th>\n",
                            "      <th>bmi</th>\n",
                            "      <th>children</th>\n",
                            "      <th>smoker</th>\n",
                            "      <th>region</th>\n",
                            "      <th>charges</th>\n",
                            "    </tr>\n",
                            "  </thead>\n",
                            "  <tbody>\n",
                            "    <tr>\n",
                            "      <th>768</th>\n",
                            "      <td>64</td>\n",
                            "      <td>female</td>\n",
                            "      <td>39.700</td>\n",
                            "      <td>0</td>\n",
                            "      <td>no</td>\n",
                            "      <td>southwest</td>\n",
                            "      <td>14319.03100</td>\n",
                            "    </tr>\n",
                            "    <tr>\n",
                            "      <th>1278</th>\n",
                            "      <td>39</td>\n",
                            "      <td>male</td>\n",
                            "      <td>29.925</td>\n",
                            "      <td>1</td>\n",
                            "      <td>yes</td>\n",
                            "      <td>northeast</td>\n",
                            "      <td>22462.04375</td>\n",
                            "    </tr>\n",
                            "    <tr>\n",
                            "      <th>1244</th>\n",
                            "      <td>18</td>\n",
                            "      <td>male</td>\n",
                            "      <td>33.330</td>\n",
                            "      <td>0</td>\n",
                            "      <td>no</td>\n",
                            "      <td>southeast</td>\n",
                            "      <td>1135.94070</td>\n",
                            "    </tr>\n",
                            "    <tr>\n",
                            "      <th>41</th>\n",
                            "      <td>31</td>\n",
                            "      <td>female</td>\n",
                            "      <td>36.630</td>\n",
                            "      <td>2</td>\n",
                            "      <td>no</td>\n",
                            "      <td>southeast</td>\n",
                            "      <td>4949.75870</td>\n",
                            "    </tr>\n",
                            "    <tr>\n",
                            "      <th>865</th>\n",
                            "      <td>40</td>\n",
                            "      <td>male</td>\n",
                            "      <td>29.900</td>\n",
                            "      <td>2</td>\n",
                            "      <td>no</td>\n",
                            "      <td>southwest</td>\n",
                            "      <td>6600.36100</td>\n",
                            "    </tr>\n",
                            "    <tr>\n",
                            "      <th>1067</th>\n",
                            "      <td>39</td>\n",
                            "      <td>male</td>\n",
                            "      <td>42.655</td>\n",
                            "      <td>0</td>\n",
                            "      <td>no</td>\n",
                            "      <td>northeast</td>\n",
                            "      <td>5757.41345</td>\n",
                            "    </tr>\n",
                            "    <tr>\n",
                            "      <th>756</th>\n",
                            "      <td>39</td>\n",
                            "      <td>female</td>\n",
                            "      <td>22.800</td>\n",
                            "      <td>3</td>\n",
                            "      <td>no</td>\n",
                            "      <td>northeast</td>\n",
                            "      <td>7985.81500</td>\n",
                            "    </tr>\n",
                            "    <tr>\n",
                            "      <th>1207</th>\n",
                            "      <td>36</td>\n",
                            "      <td>male</td>\n",
                            "      <td>33.400</td>\n",
                            "      <td>2</td>\n",
                            "      <td>yes</td>\n",
                            "      <td>southwest</td>\n",
                            "      <td>38415.47400</td>\n",
                            "    </tr>\n",
                            "    <tr>\n",
                            "      <th>255</th>\n",
                            "      <td>55</td>\n",
                            "      <td>female</td>\n",
                            "      <td>25.365</td>\n",
                            "      <td>3</td>\n",
                            "      <td>no</td>\n",
                            "      <td>northeast</td>\n",
                            "      <td>13047.33235</td>\n",
                            "    </tr>\n",
                            "    <tr>\n",
                            "      <th>934</th>\n",
                            "      <td>32</td>\n",
                            "      <td>male</td>\n",
                            "      <td>37.180</td>\n",
                            "      <td>2</td>\n",
                            "      <td>no</td>\n",
                            "      <td>southeast</td>\n",
                            "      <td>4673.39220</td>\n",
                            "    </tr>\n",
                            "  </tbody>\n",
                            "</table>\n",
                            "</div>"
                        ],
                        "text/plain": [
                            "      age     sex     bmi  children smoker     region      charges\n",
                            "768    64  female  39.700         0     no  southwest  14319.03100\n",
                            "1278   39    male  29.925         1    yes  northeast  22462.04375\n",
                            "1244   18    male  33.330         0     no  southeast   1135.94070\n",
                            "41     31  female  36.630         2     no  southeast   4949.75870\n",
                            "865    40    male  29.900         2     no  southwest   6600.36100\n",
                            "1067   39    male  42.655         0     no  northeast   5757.41345\n",
                            "756    39  female  22.800         3     no  northeast   7985.81500\n",
                            "1207   36    male  33.400         2    yes  southwest  38415.47400\n",
                            "255    55  female  25.365         3     no  northeast  13047.33235\n",
                            "934    32    male  37.180         2     no  southeast   4673.39220"
                        ]
                    },
                    "execution_count": 49,
                    "metadata": {},
                    "output_type": "execute_result"
                }
            ],
            "source": [
                "df.sample(10)"
            ]
        },
        {
            "cell_type": "code",
            "execution_count": 50,
            "metadata": {},
            "outputs": [
                {
                    "data": {
                        "text/html": [
                            "<div>\n",
                            "<style scoped>\n",
                            "    .dataframe tbody tr th:only-of-type {\n",
                            "        vertical-align: middle;\n",
                            "    }\n",
                            "\n",
                            "    .dataframe tbody tr th {\n",
                            "        vertical-align: top;\n",
                            "    }\n",
                            "\n",
                            "    .dataframe thead th {\n",
                            "        text-align: right;\n",
                            "    }\n",
                            "</style>\n",
                            "<table border=\"1\" class=\"dataframe\">\n",
                            "  <thead>\n",
                            "    <tr style=\"text-align: right;\">\n",
                            "      <th></th>\n",
                            "      <th>age</th>\n",
                            "      <th>bmi</th>\n",
                            "      <th>children</th>\n",
                            "      <th>charges</th>\n",
                            "    </tr>\n",
                            "  </thead>\n",
                            "  <tbody>\n",
                            "    <tr>\n",
                            "      <th>count</th>\n",
                            "      <td>1338.000000</td>\n",
                            "      <td>1338.000000</td>\n",
                            "      <td>1338.000000</td>\n",
                            "      <td>1338.000000</td>\n",
                            "    </tr>\n",
                            "    <tr>\n",
                            "      <th>mean</th>\n",
                            "      <td>39.207025</td>\n",
                            "      <td>30.663397</td>\n",
                            "      <td>1.094918</td>\n",
                            "      <td>13270.422265</td>\n",
                            "    </tr>\n",
                            "    <tr>\n",
                            "      <th>std</th>\n",
                            "      <td>14.049960</td>\n",
                            "      <td>6.098187</td>\n",
                            "      <td>1.205493</td>\n",
                            "      <td>12110.011237</td>\n",
                            "    </tr>\n",
                            "    <tr>\n",
                            "      <th>min</th>\n",
                            "      <td>18.000000</td>\n",
                            "      <td>15.960000</td>\n",
                            "      <td>0.000000</td>\n",
                            "      <td>1121.873900</td>\n",
                            "    </tr>\n",
                            "    <tr>\n",
                            "      <th>25%</th>\n",
                            "      <td>27.000000</td>\n",
                            "      <td>26.296250</td>\n",
                            "      <td>0.000000</td>\n",
                            "      <td>4740.287150</td>\n",
                            "    </tr>\n",
                            "    <tr>\n",
                            "      <th>50%</th>\n",
                            "      <td>39.000000</td>\n",
                            "      <td>30.400000</td>\n",
                            "      <td>1.000000</td>\n",
                            "      <td>9382.033000</td>\n",
                            "    </tr>\n",
                            "    <tr>\n",
                            "      <th>75%</th>\n",
                            "      <td>51.000000</td>\n",
                            "      <td>34.693750</td>\n",
                            "      <td>2.000000</td>\n",
                            "      <td>16639.912515</td>\n",
                            "    </tr>\n",
                            "    <tr>\n",
                            "      <th>max</th>\n",
                            "      <td>64.000000</td>\n",
                            "      <td>53.130000</td>\n",
                            "      <td>5.000000</td>\n",
                            "      <td>63770.428010</td>\n",
                            "    </tr>\n",
                            "  </tbody>\n",
                            "</table>\n",
                            "</div>"
                        ],
                        "text/plain": [
                            "               age          bmi     children       charges\n",
                            "count  1338.000000  1338.000000  1338.000000   1338.000000\n",
                            "mean     39.207025    30.663397     1.094918  13270.422265\n",
                            "std      14.049960     6.098187     1.205493  12110.011237\n",
                            "min      18.000000    15.960000     0.000000   1121.873900\n",
                            "25%      27.000000    26.296250     0.000000   4740.287150\n",
                            "50%      39.000000    30.400000     1.000000   9382.033000\n",
                            "75%      51.000000    34.693750     2.000000  16639.912515\n",
                            "max      64.000000    53.130000     5.000000  63770.428010"
                        ]
                    },
                    "execution_count": 50,
                    "metadata": {},
                    "output_type": "execute_result"
                }
            ],
            "source": [
                "df.describe()"
            ]
        },
        {
            "cell_type": "markdown",
            "metadata": {},
            "source": [
                "**Codificar las variables categóricas utilizando valores numéricos**"
            ]
        },
        {
            "cell_type": "code",
            "execution_count": 51,
            "metadata": {},
            "outputs": [
                {
                    "data": {
                        "text/plain": [
                            "male      676\n",
                            "female    662\n",
                            "Name: sex, dtype: int64"
                        ]
                    },
                    "execution_count": 51,
                    "metadata": {},
                    "output_type": "execute_result"
                }
            ],
            "source": [
                "df['sex'].value_counts()"
            ]
        },
        {
            "cell_type": "code",
            "execution_count": 52,
            "metadata": {},
            "outputs": [],
            "source": [
                "sex_dict = {'male':1, 'female':0}\n",
                "df['sex'] = df['sex'].map(sex_dict)"
            ]
        },
        {
            "cell_type": "code",
            "execution_count": 53,
            "metadata": {},
            "outputs": [
                {
                    "data": {
                        "text/plain": [
                            "no     1064\n",
                            "yes     274\n",
                            "Name: smoker, dtype: int64"
                        ]
                    },
                    "execution_count": 53,
                    "metadata": {},
                    "output_type": "execute_result"
                }
            ],
            "source": [
                "df['smoker'].value_counts()"
            ]
        },
        {
            "cell_type": "code",
            "execution_count": 54,
            "metadata": {},
            "outputs": [],
            "source": [
                "smoker_dict = {'yes':1, 'no':0}\n",
                "df['smoker'] = df['smoker'].map(smoker_dict)"
            ]
        },
        {
            "cell_type": "code",
            "execution_count": 55,
            "metadata": {},
            "outputs": [
                {
                    "data": {
                        "text/plain": [
                            "southeast    364\n",
                            "southwest    325\n",
                            "northwest    325\n",
                            "northeast    324\n",
                            "Name: region, dtype: int64"
                        ]
                    },
                    "execution_count": 55,
                    "metadata": {},
                    "output_type": "execute_result"
                }
            ],
            "source": [
                "df['region'].value_counts()"
            ]
        },
        {
            "cell_type": "code",
            "execution_count": 56,
            "metadata": {},
            "outputs": [],
            "source": [
                "region_dict = {'southeast':0, 'southwest':1, 'northwest':2, 'northeast':3}\n",
                "df['region'] = df['region'].map(region_dict)"
            ]
        },
        {
            "cell_type": "markdown",
            "metadata": {},
            "source": [
                "**Separar el dataframe en train y test**"
            ]
        },
        {
            "cell_type": "code",
            "execution_count": 57,
            "metadata": {},
            "outputs": [],
            "source": [
                "X = df.drop(columns=['charges'])\n",
                "y = df['charges']"
            ]
        },
        {
            "cell_type": "code",
            "execution_count": 58,
            "metadata": {},
            "outputs": [],
            "source": [
                "X_train, X_test_aux, y_train, y_test_aux = train_test_split(X, y, test_size=0.3, random_state=19)"
            ]
        },
        {
            "cell_type": "markdown",
            "metadata": {},
            "source": [
                "**EDA sobre el dataframe de entrenamiento**"
            ]
        },
        {
            "cell_type": "code",
            "execution_count": 59,
            "metadata": {},
            "outputs": [],
            "source": [
                "df_train = pd.concat([X_train, y_train], axis=1)"
            ]
        },
        {
            "cell_type": "code",
            "execution_count": 60,
            "metadata": {},
            "outputs": [
                {
                    "data": {
                        "image/png": "[encoded data removed]",
                        "text/plain": [
                            "<Figure size 432x288 with 1 Axes>"
                        ]
                    },
                    "metadata": {
                        "needs_background": "light"
                    },
                    "output_type": "display_data"
                }
            ],
            "source": [
                "plt.hist(df_train['charges'], bins=20)\n",
                "plt.title('Histograma de la variable charges')\n",
                "plt.show()"
            ]
        },
        {
            "cell_type": "code",
            "execution_count": 61,
            "metadata": {},
            "outputs": [
                {
                    "data": {
                        "application/vnd.plotly.v1+json": {
                            "config": {
                                "plotlyServerURL": "https://plot.ly"
                            },
                            "data": [
                                {
                                    "alignmentgroup": "True",
                                    "hovertemplate": "charges=%{x}<extra></extra>",
                                    "legendgroup": "",
                                    "marker": {
                                        "color": "#636efa"
                                    },
                                    "name": "",
                                    "notched": false,
                                    "offsetgroup": "",
                                    "orientation": "h",
                                    "showlegend": false,
                                    "type": "box",
                                    "x": [
                                        38511.6283,
                                        21344.8467,
                                        6986.697,
                                        6710.1919,
                                        10370.91255,
                                        55135.40209,
                                        22192.43711,
                                        1633.9618,
                                        12644.589,
                                        12265.5069,
                                        7243.8136,
                                        14711.7438,
                                        3981.9768,
                                        11411.685,
                                        22218.1149,
                                        7518.02535,
                                        2899.48935,
                                        38709.176,
                                        17560.37975,
                                        9855.1314,
                                        3490.5491,
                                        46151.1245,
                                        11033.6617,
                                        8601.3293,
                                        4239.89265,
                                        8520.026,
                                        41949.2441,
                                        5148.5526,
                                        4529.477,
                                        5708.867,
                                        8125.7845,
                                        12928.7911,
                                        22412.6485,
                                        5240.765,
                                        16085.1275,
                                        1682.597,
                                        23967.38305,
                                        9386.1613,
                                        7152.6714,
                                        17748.5062,
                                        4134.08245,
                                        3268.84665,
                                        1633.0444,
                                        14455.64405,
                                        42303.69215,
                                        3176.8159,
                                        34166.273,
                                        5383.536,
                                        13880.949,
                                        3757.8448,
                                        13887.204,
                                        9282.4806,
                                        2727.3951,
                                        4846.92015,
                                        13019.16105,
                                        23563.01618,
                                        21082.16,
                                        7261.741,
                                        13635.6379,
                                        5709.1644,
                                        10493.9458,
                                        6686.4313,
                                        5152.134,
                                        1837.2819,
                                        16577.7795,
                                        9875.6804,
                                        3213.62205,
                                        18903.49141,
                                        6289.7549,
                                        10461.9794,
                                        2585.269,
                                        2803.69785,
                                        17085.2676,
                                        42112.2356,
                                        23244.7902,
                                        6457.8434,
                                        6875.961,
                                        11356.6609,
                                        2457.502,
                                        7729.64575,
                                        16420.49455,
                                        2257.47525,
                                        7526.70645,
                                        9724.53,
                                        6652.5288,
                                        1875.344,
                                        20296.86345,
                                        20745.9891,
                                        7050.642,
                                        30166.61817,
                                        6186.127,
                                        9144.565,
                                        10338.9316,
                                        7222.78625,
                                        8457.818,
                                        2166.732,
                                        8413.46305,
                                        3935.1799,
                                        1674.6323,
                                        2020.5523,
                                        2585.85065,
                                        26140.3603,
                                        12557.6053,
                                        7624.63,
                                        2755.02095,
                                        8964.06055,
                                        3392.3652,
                                        6128.79745,
                                        40974.1649,
                                        4686.3887,
                                        3021.80915,
                                        13112.6048,
                                        23288.9284,
                                        7640.3092,
                                        23045.56616,
                                        2719.27975,
                                        1986.9334,
                                        8334.5896,
                                        4753.6368,
                                        24520.264,
                                        4931.647,
                                        19933.458,
                                        38126.2465,
                                        2643.2685,
                                        13405.3903,
                                        7935.29115,
                                        1664.9996,
                                        37607.5277,
                                        24227.33724,
                                        10435.06525,
                                        10942.13205,
                                        5245.2269,
                                        36085.219,
                                        8932.084,
                                        2459.7201,
                                        1631.8212,
                                        11512.405,
                                        3989.841,
                                        2457.21115,
                                        4428.88785,
                                        13041.921,
                                        5375.038,
                                        1621.3402,
                                        7537.1639,
                                        10269.46,
                                        7160.094,
                                        9863.4718,
                                        2689.4954,
                                        13974.45555,
                                        3947.4131,
                                        28868.6639,
                                        39983.42595,
                                        33307.5508,
                                        34838.873,
                                        39727.614,
                                        2709.24395,
                                        11013.7119,
                                        20630.28351,
                                        5488.262,
                                        38746.3551,
                                        3861.20965,
                                        6082.405,
                                        11576.13,
                                        6203.90175,
                                        33732.6867,
                                        2566.4707,
                                        34439.8559,
                                        18328.2381,
                                        43753.33705,
                                        1632.56445,
                                        12268.63225,
                                        8603.8234,
                                        7954.517,
                                        21098.55405,
                                        11090.7178,
                                        3875.7341,
                                        7162.0122,
                                        8765.249,
                                        13224.05705,
                                        18806.14547,
                                        9877.6077,
                                        13555.0049,
                                        4544.2348,
                                        13747.87235,
                                        32787.45859,
                                        2203.47185,
                                        3481.868,
                                        1137.011,
                                        16297.846,
                                        2497.0383,
                                        7147.4728,
                                        13143.86485,
                                        13822.803,
                                        10702.6424,
                                        11289.10925,
                                        2639.0429,
                                        47291.055,
                                        1727.785,
                                        13844.506,
                                        19107.7796,
                                        34828.654,
                                        30942.1918,
                                        21880.82,
                                        42211.1382,
                                        12404.8791,
                                        14043.4767,
                                        10226.2842,
                                        17904.52705,
                                        13393.756,
                                        2904.088,
                                        4687.797,
                                        2597.779,
                                        11837.16,
                                        8891.1395,
                                        12124.9924,
                                        4357.04365,
                                        6238.298,
                                        10965.446,
                                        8527.532,
                                        9140.951,
                                        18033.9679,
                                        40182.246,
                                        16138.76205,
                                        5354.07465,
                                        27941.28758,
                                        25656.57526,
                                        12629.1656,
                                        1711.0268,
                                        10115.00885,
                                        13470.86,
                                        10560.4917,
                                        39597.4072,
                                        8442.667,
                                        4527.18295,
                                        8283.6807,
                                        12950.0712,
                                        4562.8421,
                                        6373.55735,
                                        20277.80751,
                                        34617.84065,
                                        28468.91901,
                                        3443.064,
                                        9411.005,
                                        7731.85785,
                                        4433.9159,
                                        33907.548,
                                        10791.96,
                                        36149.4835,
                                        12890.05765,
                                        11879.10405,
                                        39722.7462,
                                        14119.62,
                                        7441.501,
                                        9487.6442,
                                        10594.2257,
                                        11830.6072,
                                        8347.1643,
                                        6877.9801,
                                        4837.5823,
                                        12981.3457,
                                        4005.4225,
                                        11454.0215,
                                        2102.2647,
                                        8068.185,
                                        21223.6758,
                                        36307.7983,
                                        4402.233,
                                        24106.91255,
                                        27533.9129,
                                        2322.6218,
                                        5472.449,
                                        6496.886,
                                        8059.6791,
                                        13352.0998,
                                        19350.3689,
                                        2331.519,
                                        1725.5523,
                                        5003.853,
                                        10923.9332,
                                        12629.8967,
                                        4949.7587,
                                        8944.1151,
                                        2304.0022,
                                        4243.59005,
                                        8240.5896,
                                        1972.95,
                                        3484.331,
                                        4571.41305,
                                        12323.936,
                                        12957.118,
                                        11552.904,
                                        3070.8087,
                                        12592.5345,
                                        2690.1138,
                                        40419.0191,
                                        8823.98575,
                                        5969.723,
                                        30284.64294,
                                        43921.1837,
                                        5976.8311,
                                        7196.867,
                                        2721.3208,
                                        25081.76784,
                                        2534.39375,
                                        4296.2712,
                                        38711,
                                        25678.77845,
                                        15817.9857,
                                        1737.376,
                                        5972.378,
                                        3766.8838,
                                        39611.7577,
                                        9872.701,
                                        12574.049,
                                        22462.04375,
                                        12485.8009,
                                        2897.3235,
                                        2136.88225,
                                        10713.644,
                                        13012.20865,
                                        3176.2877,
                                        23241.47453,
                                        11743.9341,
                                        8027.968,
                                        12609.88702,
                                        48517.56315,
                                        2632.992,
                                        11436.73815,
                                        8782.469,
                                        5385.3379,
                                        5002.7827,
                                        24873.3849,
                                        10085.846,
                                        6311.952,
                                        35069.37452,
                                        8232.6388,
                                        5272.1758,
                                        21771.3423,
                                        12495.29085,
                                        1141.4451,
                                        12430.95335,
                                        4670.64,
                                        2730.10785,
                                        4347.02335,
                                        13981.85035,
                                        12233.828,
                                        5080.096,
                                        2045.68525,
                                        15820.699,
                                        14254.6082,
                                        13457.9608,
                                        3847.674,
                                        5125.2157,
                                        36189.1017,
                                        12142.5786,
                                        38282.7495,
                                        1704.5681,
                                        11365.952,
                                        6389.37785,
                                        3167.45585,
                                        1241.565,
                                        11881.9696,
                                        1242.816,
                                        8733.22925,
                                        2438.0552,
                                        10982.5013,
                                        15019.76005,
                                        4618.0799,
                                        1261.859,
                                        11165.41765,
                                        11931.12525,
                                        28476.73499,
                                        1743.214,
                                        11538.421,
                                        46113.511,
                                        10096.97,
                                        6664.68595,
                                        16796.41194,
                                        27346.04207,
                                        5458.04645,
                                        36197.699,
                                        2395.17155,
                                        41919.097,
                                        2416.955,
                                        13844.7972,
                                        6799.458,
                                        16069.08475,
                                        7623.518,
                                        2104.1134,
                                        5910.944,
                                        2261.5688,
                                        46889.2612,
                                        4877.98105,
                                        5478.0368,
                                        3046.062,
                                        8516.829,
                                        18972.495,
                                        4738.2682,
                                        11363.2832,
                                        34254.05335,
                                        40941.2854,
                                        9957.7216,
                                        18963.17192,
                                        2219.4451,
                                        14007.222,
                                        41676.0811,
                                        14001.1338,
                                        1635.73365,
                                        1263.249,
                                        11674.13,
                                        3044.2133,
                                        7512.267,
                                        4337.7352,
                                        4934.705,
                                        12244.531,
                                        2867.1196,
                                        2483.736,
                                        5615.369,
                                        3943.5954,
                                        10118.424,
                                        39241.442,
                                        5989.52365,
                                        10072.05505,
                                        36021.0112,
                                        25382.297,
                                        34779.615,
                                        7046.7222,
                                        28287.89766,
                                        2710.82855,
                                        14256.1928,
                                        36580.28216,
                                        7742.1098,
                                        7789.635,
                                        9866.30485,
                                        1149.3959,
                                        7281.5056,
                                        2362.22905,
                                        7077.1894,
                                        2842.76075,
                                        26236.57997,
                                        16450.8947,
                                        6571.02435,
                                        6781.3542,
                                        10107.2206,
                                        17929.30337,
                                        13415.0381,
                                        46718.16325,
                                        6338.0756,
                                        1759.338,
                                        11938.25595,
                                        10976.24575,
                                        40720.55105,
                                        7441.053,
                                        3659.346,
                                        13430.265,
                                        2302.3,
                                        3556.9223,
                                        11520.09985,
                                        11244.3769,
                                        9447.3824,
                                        3972.9247,
                                        8023.13545,
                                        4894.7533,
                                        17663.1442,
                                        10564.8845,
                                        4435.0942,
                                        3077.0955,
                                        6770.1925,
                                        4349.462,
                                        14394.5579,
                                        30184.9367,
                                        27375.90478,
                                        2211.13075,
                                        27322.73386,
                                        6551.7501,
                                        1712.227,
                                        19444.2658,
                                        23401.30575,
                                        7443.64305,
                                        6123.5688,
                                        8988.15875,
                                        26926.5144,
                                        40273.6455,
                                        4673.3922,
                                        12231.6136,
                                        1534.3045,
                                        2198.18985,
                                        1639.5631,
                                        46255.1125,
                                        5974.3847,
                                        5836.5204,
                                        22331.5668,
                                        1720.3537,
                                        11093.6229,
                                        11362.755,
                                        12096.6512,
                                        1253.936,
                                        1826.843,
                                        1261.442,
                                        14590.63205,
                                        11737.84884,
                                        26467.09737,
                                        2523.1695,
                                        1708.92575,
                                        7348.142,
                                        8615.3,
                                        9634.538,
                                        27218.43725,
                                        8083.9198,
                                        7173.35995,
                                        12032.326,
                                        16884.924,
                                        6455.86265,
                                        8825.086,
                                        3500.6123,
                                        7045.499,
                                        2404.7338,
                                        14901.5167,
                                        60021.39897,
                                        19594.80965,
                                        47928.03,
                                        3279.86855,
                                        36898.73308,
                                        9722.7695,
                                        8605.3615,
                                        14571.8908,
                                        3366.6697,
                                        35147.52848,
                                        2217.46915,
                                        3645.0894,
                                        14478.33015,
                                        20167.33603,
                                        1634.5734,
                                        4234.927,
                                        34672.1472,
                                        46661.4424,
                                        6837.3687,
                                        3062.50825,
                                        38998.546,
                                        43578.9394,
                                        19515.5416,
                                        5266.3656,
                                        39125.33225,
                                        1837.237,
                                        6940.90985,
                                        8062.764,
                                        3392.9768,
                                        12044.342,
                                        9288.0267,
                                        24667.419,
                                        5926.846,
                                        13462.52,
                                        2020.177,
                                        21659.9301,
                                        9778.3472,
                                        47896.79135,
                                        8116.68,
                                        1728.897,
                                        10579.711,
                                        12648.7034,
                                        8978.1851,
                                        8515.7587,
                                        4463.2051,
                                        6948.7008,
                                        9447.25035,
                                        29186.48236,
                                        11840.77505,
                                        10355.641,
                                        12829.4551,
                                        13129.60345,
                                        5662.225,
                                        9880.068,
                                        3260.199,
                                        4237.12655,
                                        1708.0014,
                                        1256.299,
                                        7985.815,
                                        4922.9159,
                                        3591.48,
                                        37079.372,
                                        4462.7218,
                                        3925.7582,
                                        4449.462,
                                        20709.02034,
                                        9583.8933,
                                        3410.324,
                                        43813.8661,
                                        5312.16985,
                                        11881.358,
                                        11085.5868,
                                        4350.5144,
                                        2138.0707,
                                        35491.64,
                                        26018.95052,
                                        1969.614,
                                        47305.305,
                                        11554.2236,
                                        2464.6188,
                                        9048.0273,
                                        10197.7722,
                                        11345.519,
                                        19719.6947,
                                        6272.4772,
                                        32734.1863,
                                        1694.7964,
                                        4189.1131,
                                        4149.736,
                                        42969.8527,
                                        1880.487,
                                        2134.9015,
                                        6402.29135,
                                        6796.86325,
                                        6184.2994,
                                        12029.2867,
                                        2217.6012,
                                        33900.653,
                                        1909.52745,
                                        5693.4305,
                                        7337.748,
                                        8688.85885,
                                        5257.50795,
                                        7727.2532,
                                        40904.1995,
                                        14313.8463,
                                        2203.73595,
                                        13126.67745,
                                        6775.961,
                                        39836.519,
                                        10977.2063,
                                        38792.6856,
                                        4058.71245,
                                        20149.3229,
                                        24603.04837,
                                        1632.03625,
                                        30259.99556,
                                        15612.19335,
                                        9174.13565,
                                        2680.9493,
                                        5920.1041,
                                        2473.3341,
                                        12815.44495,
                                        6406.4107,
                                        25517.11363,
                                        36397.576,
                                        39725.51805,
                                        6666.243,
                                        1917.3184,
                                        17043.3414,
                                        7323.734819,
                                        9193.8385,
                                        6250.435,
                                        11455.28,
                                        20462.99766,
                                        26125.67477,
                                        12347.172,
                                        11848.141,
                                        2527.81865,
                                        4915.05985,
                                        6067.12675,
                                        7418.522,
                                        11305.93455,
                                        18157.876,
                                        8930.93455,
                                        8538.28845,
                                        5253.524,
                                        13047.33235,
                                        13228.84695,
                                        2128.43105,
                                        11150.78,
                                        2130.6759,
                                        8965.79575,
                                        38415.474,
                                        34806.4677,
                                        35160.13457,
                                        11833.7823,
                                        1646.4297,
                                        6313.759,
                                        2026.9741,
                                        10325.206,
                                        49577.6624,
                                        8444.474,
                                        39871.7043,
                                        4830.63,
                                        34303.1672,
                                        4889.9995,
                                        10704.47,
                                        24915.04626,
                                        9222.4026,
                                        13451.122,
                                        42856.838,
                                        44400.4064,
                                        1727.54,
                                        6610.1097,
                                        8302.53565,
                                        10106.13425,
                                        9620.3307,
                                        7050.0213,
                                        6112.35295,
                                        3056.3881,
                                        11326.71487,
                                        14394.39815,
                                        8116.26885,
                                        25992.82104,
                                        17496.306,
                                        17468.9839,
                                        1977.815,
                                        7325.0482,
                                        4260.744,
                                        19749.38338,
                                        10959.6947,
                                        2480.9791,
                                        13770.0979,
                                        4766.022,
                                        8823.279,
                                        28923.13692,
                                        7445.918,
                                        14410.9321,
                                        1842.519,
                                        2103.08,
                                        19214.70553,
                                        13607.36875,
                                        20878.78443,
                                        8252.2843,
                                        13831.1152,
                                        44202.6536,
                                        2789.0574,
                                        22395.74424,
                                        8211.1002,
                                        5630.45785,
                                        24180.9335,
                                        8219.2039,
                                        8968.33,
                                        11884.04858,
                                        2254.7967,
                                        33471.97189,
                                        15359.1045,
                                        3994.1778,
                                        3471.4096,
                                        2699.56835,
                                        48675.5177,
                                        13470.8044,
                                        1629.8335,
                                        15828.82173,
                                        8604.48365,
                                        9869.8102,
                                        2200.83085,
                                        9283.562,
                                        4667.60765,
                                        13204.28565,
                                        4751.07,
                                        6059.173,
                                        10795.93733,
                                        2801.2588,
                                        5438.7491,
                                        6858.4796,
                                        5425.02335,
                                        12094.478,
                                        10928.849,
                                        3309.7926,
                                        1832.094,
                                        7804.1605,
                                        37270.1512,
                                        10156.7832,
                                        51194.55914,
                                        15555.18875,
                                        8334.45755,
                                        4992.3764,
                                        24059.68019,
                                        45702.02235,
                                        6746.7425,
                                        17361.7661,
                                        9788.8659,
                                        9377.9047,
                                        11856.4115,
                                        6198.7518,
                                        1625.43375,
                                        11741.726,
                                        47055.5321,
                                        2494.022,
                                        5327.40025,
                                        47496.49445,
                                        37165.1638,
                                        29523.1656,
                                        12913.9924,
                                        10381.4787,
                                        8539.671,
                                        2498.4144,
                                        36124.5737,
                                        3866.8552,
                                        13616.3586,
                                        13143.33665,
                                        11299.343,
                                        40103.89,
                                        13919.8229,
                                        5116.5004,
                                        4320.41085,
                                        12523.6048,
                                        4719.52405,
                                        21984.47061,
                                        11658.11505,
                                        1136.3994,
                                        10736.87075,
                                        40932.4295,
                                        27037.9141,
                                        9910.35985,
                                        8569.8618,
                                        23306.547,
                                        3537.703,
                                        2117.33885,
                                        3906.127,
                                        6985.50695,
                                        9101.798,
                                        8556.907,
                                        8534.6718,
                                        11381.3254,
                                        7749.1564,
                                        18246.4955,
                                        48673.5588,
                                        9715.841,
                                        3558.62025,
                                        29330.98315,
                                        1391.5287,
                                        8017.06115,
                                        3877.30425,
                                        6653.7886,
                                        42124.5153,
                                        12949.1554,
                                        36910.60803,
                                        44585.45587,
                                        27000.98473,
                                        48173.361,
                                        6360.9936,
                                        3756.6216,
                                        4133.64165,
                                        13887.9685,
                                        6282.235,
                                        3987.926,
                                        4661.28635,
                                        20420.60465,
                                        3353.284,
                                        3579.8287,
                                        12363.547,
                                        6555.07035,
                                        9625.92,
                                        25309.489,
                                        6571.544,
                                        4779.6023,
                                        3208.787,
                                        18955.22017,
                                        1877.9294,
                                        48885.13561,
                                        1121.8739,
                                        21195.818,
                                        11253.421,
                                        33750.2918,
                                        6079.6715,
                                        7358.17565,
                                        3385.39915,
                                        27724.28875,
                                        42560.4304,
                                        6196.448,
                                        3238.4357,
                                        9644.2525,
                                        13429.0354,
                                        10601.412,
                                        3206.49135,
                                        4646.759,
                                        6600.361,
                                        8551.347,
                                        3201.24515,
                                        5428.7277,
                                        1880.07,
                                        2927.0647,
                                        20781.48892,
                                        7639.41745,
                                        17081.08,
                                        5966.8874,
                                        4762.329,
                                        4433.3877,
                                        9391.346,
                                        8026.6666,
                                        8671.19125,
                                        7633.7206,
                                        5594.8455,
                                        10264.4421,
                                        16657.71745,
                                        5934.3798,
                                        8277.523,
                                        4883.866,
                                        3704.3545,
                                        12333.828,
                                        3292.52985,
                                        12730.9996,
                                        2207.69745,
                                        4564.19145,
                                        7419.4779,
                                        4074.4537,
                                        11657.7189,
                                        9617.66245,
                                        14449.8544,
                                        9549.5651,
                                        12638.195,
                                        18259.216,
                                        11763.0009,
                                        5012.471,
                                        6113.23105,
                                        3597.596,
                                        6600.20595,
                                        19496.71917,
                                        1702.4553,
                                        15161.5344,
                                        8124.4084,
                                        37742.5757,
                                        1137.4697,
                                        10601.63225,
                                        4518.82625,
                                        4391.652,
                                        11729.6795,
                                        12797.20962,
                                        8871.1517,
                                        37133.8982,
                                        7448.40395,
                                        42760.5022,
                                        14001.2867,
                                        13725.47184,
                                        3180.5101,
                                        20177.67113,
                                        13217.0945,
                                        17179.522,
                                        10450.552,
                                        5377.4578,
                                        11944.59435,
                                        3161.454,
                                        32108.66282,
                                        23065.4207,
                                        9182.17
                                    ],
                                    "x0": " ",
                                    "xaxis": "x",
                                    "y0": " ",
                                    "yaxis": "y"
                                }
                            ],
                            "layout": {
                                "boxmode": "group",
                                "legend": {
                                    "tracegroupgap": 0
                                },
                                "template": {
                                    "data": {
                                        "bar": [
                                            {
                                                "error_x": {
                                                    "color": "#2a3f5f"
                                                },
                                                "error_y": {
                                                    "color": "#2a3f5f"
                                                },
                                                "marker": {
                                                    "line": {
                                                        "color": "#E5ECF6",
                                                        "width": 0.5
                                                    },
                                                    "pattern": {
                                                        "fillmode": "overlay",
                                                        "size": 10,
                                                        "solidity": 0.2
                                                    }
                                                },
                                                "type": "bar"
                                            }
                                        ],
                                        "barpolar": [
                                            {
                                                "marker": {
                                                    "line": {
                                                        "color": "#E5ECF6",
                                                        "width": 0.5
                                                    },
                                                    "pattern": {
                                                        "fillmode": "overlay",
                                                        "size": 10,
                                                        "solidity": 0.2
                                                    }
                                                },
                                                "type": "barpolar"
                                            }
                                        ],
                                        "carpet": [
                                            {
                                                "aaxis": {
                                                    "endlinecolor": "#2a3f5f",
                                                    "gridcolor": "white",
                                                    "linecolor": "white",
                                                    "minorgridcolor": "white",
                                                    "startlinecolor": "#2a3f5f"
                                                },
                                                "baxis": {
                                                    "endlinecolor": "#2a3f5f",
                                                    "gridcolor": "white",
                                                    "linecolor": "white",
                                                    "minorgridcolor": "white",
                                                    "startlinecolor": "#2a3f5f"
                                                },
                                                "type": "carpet"
                                            }
                                        ],
                                        "choropleth": [
                                            {
                                                "colorbar": {
                                                    "outlinewidth": 0,
                                                    "ticks": ""
                                                },
                                                "type": "choropleth"
                                            }
                                        ],
                                        "contour": [
                                            {
                                                "colorbar": {
                                                    "outlinewidth": 0,
                                                    "ticks": ""
                                                },
                                                "colorscale": [
                                                    [
                                                        0,
                                                        "#0d0887"
                                                    ],
                                                    [
                                                        0.1111111111111111,
                                                        "#46039f"
                                                    ],
                                                    [
                                                        0.2222222222222222,
                                                        "#7201a8"
                                                    ],
                                                    [
                                                        0.3333333333333333,
                                                        "#9c179e"
                                                    ],
                                                    [
                                                        0.4444444444444444,
                                                        "#bd3786"
                                                    ],
                                                    [
                                                        0.5555555555555556,
                                                        "#d8576b"
                                                    ],
                                                    [
                                                        0.6666666666666666,
                                                        "#ed7953"
                                                    ],
                                                    [
                                                        0.7777777777777778,
                                                        "#fb9f3a"
                                                    ],
                                                    [
                                                        0.8888888888888888,
                                                        "#fdca26"
                                                    ],
                                                    [
                                                        1,
                                                        "#f0f921"
                                                    ]
                                                ],
                                                "type": "contour"
                                            }
                                        ],
                                        "contourcarpet": [
                                            {
                                                "colorbar": {
                                                    "outlinewidth": 0,
                                                    "ticks": ""
                                                },
                                                "type": "contourcarpet"
                                            }
                                        ],
                                        "heatmap": [
                                            {
                                                "colorbar": {
                                                    "outlinewidth": 0,
                                                    "ticks": ""
                                                },
                                                "colorscale": [
                                                    [
                                                        0,
                                                        "#0d0887"
                                                    ],
                                                    [
                                                        0.1111111111111111,
                                                        "#46039f"
                                                    ],
                                                    [
                                                        0.2222222222222222,
                                                        "#7201a8"
                                                    ],
                                                    [
                                                        0.3333333333333333,
                                                        "#9c179e"
                                                    ],
                                                    [
                                                        0.4444444444444444,
                                                        "#bd3786"
                                                    ],
                                                    [
                                                        0.5555555555555556,
                                                        "#d8576b"
                                                    ],
                                                    [
                                                        0.6666666666666666,
                                                        "#ed7953"
                                                    ],
                                                    [
                                                        0.7777777777777778,
                                                        "#fb9f3a"
                                                    ],
                                                    [
                                                        0.8888888888888888,
                                                        "#fdca26"
                                                    ],
                                                    [
                                                        1,
                                                        "#f0f921"
                                                    ]
                                                ],
                                                "type": "heatmap"
                                            }
                                        ],
                                        "heatmapgl": [
                                            {
                                                "colorbar": {
                                                    "outlinewidth": 0,
                                                    "ticks": ""
                                                },
                                                "colorscale": [
                                                    [
                                                        0,
                                                        "#0d0887"
                                                    ],
                                                    [
                                                        0.1111111111111111,
                                                        "#46039f"
                                                    ],
                                                    [
                                                        0.2222222222222222,
                                                        "#7201a8"
                                                    ],
                                                    [
                                                        0.3333333333333333,
                                                        "#9c179e"
                                                    ],
                                                    [
                                                        0.4444444444444444,
                                                        "#bd3786"
                                                    ],
                                                    [
                                                        0.5555555555555556,
                                                        "#d8576b"
                                                    ],
                                                    [
                                                        0.6666666666666666,
                                                        "#ed7953"
                                                    ],
                                                    [
                                                        0.7777777777777778,
                                                        "#fb9f3a"
                                                    ],
                                                    [
                                                        0.8888888888888888,
                                                        "#fdca26"
                                                    ],
                                                    [
                                                        1,
                                                        "#f0f921"
                                                    ]
                                                ],
                                                "type": "heatmapgl"
                                            }
                                        ],
                                        "histogram": [
                                            {
                                                "marker": {
                                                    "pattern": {
                                                        "fillmode": "overlay",
                                                        "size": 10,
                                                        "solidity": 0.2
                                                    }
                                                },
                                                "type": "histogram"
                                            }
                                        ],
                                        "histogram2d": [
                                            {
                                                "colorbar": {
                                                    "outlinewidth": 0,
                                                    "ticks": ""
                                                },
                                                "colorscale": [
                                                    [
                                                        0,
                                                        "#0d0887"
                                                    ],
                                                    [
                                                        0.1111111111111111,
                                                        "#46039f"
                                                    ],
                                                    [
                                                        0.2222222222222222,
                                                        "#7201a8"
                                                    ],
                                                    [
                                                        0.3333333333333333,
                                                        "#9c179e"
                                                    ],
                                                    [
                                                        0.4444444444444444,
                                                        "#bd3786"
                                                    ],
                                                    [
                                                        0.5555555555555556,
                                                        "#d8576b"
                                                    ],
                                                    [
                                                        0.6666666666666666,
                                                        "#ed7953"
                                                    ],
                                                    [
                                                        0.7777777777777778,
                                                        "#fb9f3a"
                                                    ],
                                                    [
                                                        0.8888888888888888,
                                                        "#fdca26"
                                                    ],
                                                    [
                                                        1,
                                                        "#f0f921"
                                                    ]
                                                ],
                                                "type": "histogram2d"
                                            }
                                        ],
                                        "histogram2dcontour": [
                                            {
                                                "colorbar": {
                                                    "outlinewidth": 0,
                                                    "ticks": ""
                                                },
                                                "colorscale": [
                                                    [
                                                        0,
                                                        "#0d0887"
                                                    ],
                                                    [
                                                        0.1111111111111111,
                                                        "#46039f"
                                                    ],
                                                    [
                                                        0.2222222222222222,
                                                        "#7201a8"
                                                    ],
                                                    [
                                                        0.3333333333333333,
                                                        "#9c179e"
                                                    ],
                                                    [
                                                        0.4444444444444444,
                                                        "#bd3786"
                                                    ],
                                                    [
                                                        0.5555555555555556,
                                                        "#d8576b"
                                                    ],
                                                    [
                                                        0.6666666666666666,
                                                        "#ed7953"
                                                    ],
                                                    [
                                                        0.7777777777777778,
                                                        "#fb9f3a"
                                                    ],
                                                    [
                                                        0.8888888888888888,
                                                        "#fdca26"
                                                    ],
                                                    [
                                                        1,
                                                        "#f0f921"
                                                    ]
                                                ],
                                                "type": "histogram2dcontour"
                                            }
                                        ],
                                        "mesh3d": [
                                            {
                                                "colorbar": {
                                                    "outlinewidth": 0,
                                                    "ticks": ""
                                                },
                                                "type": "mesh3d"
                                            }
                                        ],
                                        "parcoords": [
                                            {
                                                "line": {
                                                    "colorbar": {
                                                        "outlinewidth": 0,
                                                        "ticks": ""
                                                    }
                                                },
                                                "type": "parcoords"
                                            }
                                        ],
                                        "pie": [
                                            {
                                                "automargin": true,
                                                "type": "pie"
                                            }
                                        ],
                                        "scatter": [
                                            {
                                                "fillpattern": {
                                                    "fillmode": "overlay",
                                                    "size": 10,
                                                    "solidity": 0.2
                                                },
                                                "type": "scatter"
                                            }
                                        ],
                                        "scatter3d": [
                                            {
                                                "line": {
                                                    "colorbar": {
                                                        "outlinewidth": 0,
                                                        "ticks": ""
                                                    }
                                                },
                                                "marker": {
                                                    "colorbar": {
                                                        "outlinewidth": 0,
                                                        "ticks": ""
                                                    }
                                                },
                                                "type": "scatter3d"
                                            }
                                        ],
                                        "scattercarpet": [
                                            {
                                                "marker": {
                                                    "colorbar": {
                                                        "outlinewidth": 0,
                                                        "ticks": ""
                                                    }
                                                },
                                                "type": "scattercarpet"
                                            }
                                        ],
                                        "scattergeo": [
                                            {
                                                "marker": {
                                                    "colorbar": {
                                                        "outlinewidth": 0,
                                                        "ticks": ""
                                                    }
                                                },
                                                "type": "scattergeo"
                                            }
                                        ],
                                        "scattergl": [
                                            {
                                                "marker": {
                                                    "colorbar": {
                                                        "outlinewidth": 0,
                                                        "ticks": ""
                                                    }
                                                },
                                                "type": "scattergl"
                                            }
                                        ],
                                        "scattermapbox": [
                                            {
                                                "marker": {
                                                    "colorbar": {
                                                        "outlinewidth": 0,
                                                        "ticks": ""
                                                    }
                                                },
                                                "type": "scattermapbox"
                                            }
                                        ],
                                        "scatterpolar": [
                                            {
                                                "marker": {
                                                    "colorbar": {
                                                        "outlinewidth": 0,
                                                        "ticks": ""
                                                    }
                                                },
                                                "type": "scatterpolar"
                                            }
                                        ],
                                        "scatterpolargl": [
                                            {
                                                "marker": {
                                                    "colorbar": {
                                                        "outlinewidth": 0,
                                                        "ticks": ""
                                                    }
                                                },
                                                "type": "scatterpolargl"
                                            }
                                        ],
                                        "scatterternary": [
                                            {
                                                "marker": {
                                                    "colorbar": {
                                                        "outlinewidth": 0,
                                                        "ticks": ""
                                                    }
                                                },
                                                "type": "scatterternary"
                                            }
                                        ],
                                        "surface": [
                                            {
                                                "colorbar": {
                                                    "outlinewidth": 0,
                                                    "ticks": ""
                                                },
                                                "colorscale": [
                                                    [
                                                        0,
                                                        "#0d0887"
                                                    ],
                                                    [
                                                        0.1111111111111111,
                                                        "#46039f"
                                                    ],
                                                    [
                                                        0.2222222222222222,
                                                        "#7201a8"
                                                    ],
                                                    [
                                                        0.3333333333333333,
                                                        "#9c179e"
                                                    ],
                                                    [
                                                        0.4444444444444444,
                                                        "#bd3786"
                                                    ],
                                                    [
                                                        0.5555555555555556,
                                                        "#d8576b"
                                                    ],
                                                    [
                                                        0.6666666666666666,
                                                        "#ed7953"
                                                    ],
                                                    [
                                                        0.7777777777777778,
                                                        "#fb9f3a"
                                                    ],
                                                    [
                                                        0.8888888888888888,
                                                        "#fdca26"
                                                    ],
                                                    [
                                                        1,
                                                        "#f0f921"
                                                    ]
                                                ],
                                                "type": "surface"
                                            }
                                        ],
                                        "table": [
                                            {
                                                "cells": {
                                                    "fill": {
                                                        "color": "#EBF0F8"
                                                    },
                                                    "line": {
                                                        "color": "white"
                                                    }
                                                },
                                                "header": {
                                                    "fill": {
                                                        "color": "#C8D4E3"
                                                    },
                                                    "line": {
                                                        "color": "white"
                                                    }
                                                },
                                                "type": "table"
                                            }
                                        ]
                                    },
                                    "layout": {
                                        "annotationdefaults": {
                                            "arrowcolor": "#2a3f5f",
                                            "arrowhead": 0,
                                            "arrowwidth": 1
                                        },
                                        "autotypenumbers": "strict",
                                        "coloraxis": {
                                            "colorbar": {
                                                "outlinewidth": 0,
                                                "ticks": ""
                                            }
                                        },
                                        "colorscale": {
                                            "diverging": [
                                                [
                                                    0,
                                                    "#8e0152"
                                                ],
                                                [
                                                    0.1,
                                                    "#c51b7d"
                                                ],
                                                [
                                                    0.2,
                                                    "#de77ae"
                                                ],
                                                [
                                                    0.3,
                                                    "#f1b6da"
                                                ],
                                                [
                                                    0.4,
                                                    "#fde0ef"
                                                ],
                                                [
                                                    0.5,
                                                    "#f7f7f7"
                                                ],
                                                [
                                                    0.6,
                                                    "#e6f5d0"
                                                ],
                                                [
                                                    0.7,
                                                    "#b8e186"
                                                ],
                                                [
                                                    0.8,
                                                    "#7fbc41"
                                                ],
                                                [
                                                    0.9,
                                                    "#4d9221"
                                                ],
                                                [
                                                    1,
                                                    "#276419"
                                                ]
                                            ],
                                            "sequential": [
                                                [
                                                    0,
                                                    "#0d0887"
                                                ],
                                                [
                                                    0.1111111111111111,
                                                    "#46039f"
                                                ],
                                                [
                                                    0.2222222222222222,
                                                    "#7201a8"
                                                ],
                                                [
                                                    0.3333333333333333,
                                                    "#9c179e"
                                                ],
                                                [
                                                    0.4444444444444444,
                                                    "#bd3786"
                                                ],
                                                [
                                                    0.5555555555555556,
                                                    "#d8576b"
                                                ],
                                                [
                                                    0.6666666666666666,
                                                    "#ed7953"
                                                ],
                                                [
                                                    0.7777777777777778,
                                                    "#fb9f3a"
                                                ],
                                                [
                                                    0.8888888888888888,
                                                    "#fdca26"
                                                ],
                                                [
                                                    1,
                                                    "#f0f921"
                                                ]
                                            ],
                                            "sequentialminus": [
                                                [
                                                    0,
                                                    "#0d0887"
                                                ],
                                                [
                                                    0.1111111111111111,
                                                    "#46039f"
                                                ],
                                                [
                                                    0.2222222222222222,
                                                    "#7201a8"
                                                ],
                                                [
                                                    0.3333333333333333,
                                                    "#9c179e"
                                                ],
                                                [
                                                    0.4444444444444444,
                                                    "#bd3786"
                                                ],
                                                [
                                                    0.5555555555555556,
                                                    "#d8576b"
                                                ],
                                                [
                                                    0.6666666666666666,
                                                    "#ed7953"
                                                ],
                                                [
                                                    0.7777777777777778,
                                                    "#fb9f3a"
                                                ],
                                                [
                                                    0.8888888888888888,
                                                    "#fdca26"
                                                ],
                                                [
                                                    1,
                                                    "#f0f921"
                                                ]
                                            ]
                                        },
                                        "colorway": [
                                            "#636efa",
                                            "#EF553B",
                                            "#00cc96",
                                            "#ab63fa",
                                            "#FFA15A",
                                            "#19d3f3",
                                            "#FF6692",
                                            "#B6E880",
                                            "#FF97FF",
                                            "#FECB52"
                                        ],
                                        "font": {
                                            "color": "#2a3f5f"
                                        },
                                        "geo": {
                                            "bgcolor": "white",
                                            "lakecolor": "white",
                                            "landcolor": "#E5ECF6",
                                            "showlakes": true,
                                            "showland": true,
                                            "subunitcolor": "white"
                                        },
                                        "hoverlabel": {
                                            "align": "left"
                                        },
                                        "hovermode": "closest",
                                        "mapbox": {
                                            "style": "light"
                                        },
                                        "paper_bgcolor": "white",
                                        "plot_bgcolor": "#E5ECF6",
                                        "polar": {
                                            "angularaxis": {
                                                "gridcolor": "white",
                                                "linecolor": "white",
                                                "ticks": ""
                                            },
                                            "bgcolor": "#E5ECF6",
                                            "radialaxis": {
                                                "gridcolor": "white",
                                                "linecolor": "white",
                                                "ticks": ""
                                            }
                                        },
                                        "scene": {
                                            "xaxis": {
                                                "backgroundcolor": "#E5ECF6",
                                                "gridcolor": "white",
                                                "gridwidth": 2,
                                                "linecolor": "white",
                                                "showbackground": true,
                                                "ticks": "",
                                                "zerolinecolor": "white"
                                            },
                                            "yaxis": {
                                                "backgroundcolor": "#E5ECF6",
                                                "gridcolor": "white",
                                                "gridwidth": 2,
                                                "linecolor": "white",
                                                "showbackground": true,
                                                "ticks": "",
                                                "zerolinecolor": "white"
                                            },
                                            "zaxis": {
                                                "backgroundcolor": "#E5ECF6",
                                                "gridcolor": "white",
                                                "gridwidth": 2,
                                                "linecolor": "white",
                                                "showbackground": true,
                                                "ticks": "",
                                                "zerolinecolor": "white"
                                            }
                                        },
                                        "shapedefaults": {
                                            "line": {
                                                "color": "#2a3f5f"
                                            }
                                        },
                                        "ternary": {
                                            "aaxis": {
                                                "gridcolor": "white",
                                                "linecolor": "white",
                                                "ticks": ""
                                            },
                                            "baxis": {
                                                "gridcolor": "white",
                                                "linecolor": "white",
                                                "ticks": ""
                                            },
                                            "bgcolor": "#E5ECF6",
                                            "caxis": {
                                                "gridcolor": "white",
                                                "linecolor": "white",
                                                "ticks": ""
                                            }
                                        },
                                        "title": {
                                            "x": 0.05
                                        },
                                        "xaxis": {
                                            "automargin": true,
                                            "gridcolor": "white",
                                            "linecolor": "white",
                                            "ticks": "",
                                            "title": {
                                                "standoff": 15
                                            },
                                            "zerolinecolor": "white",
                                            "zerolinewidth": 2
                                        },
                                        "yaxis": {
                                            "automargin": true,
                                            "gridcolor": "white",
                                            "linecolor": "white",
                                            "ticks": "",
                                            "title": {
                                                "standoff": 15
                                            },
                                            "zerolinecolor": "white",
                                            "zerolinewidth": 2
                                        }
                                    }
                                },
                                "title": {
                                    "text": "Boxplot de la variable charges"
                                },
                                "xaxis": {
                                    "anchor": "y",
                                    "domain": [
                                        0,
                                        1
                                    ],
                                    "title": {
                                        "text": "charges"
                                    }
                                },
                                "yaxis": {
                                    "anchor": "x",
                                    "domain": [
                                        0,
                                        1
                                    ]
                                }
                            }
                        },
                        "text/html": [
                            "<div>                            <div id=\"26d9744c-cabe-40bb-b8b3-e242613a5936\" class=\"plotly-graph-div\" style=\"height:525px; width:100%;\"></div>            <script type=\"text/javascript\">                require([\"plotly\"], function(Plotly) {                    window.PLOTLYENV=window.PLOTLYENV || {};                                    if (document.getElementById(\"26d9744c-cabe-40bb-b8b3-e242613a5936\")) {                    Plotly.newPlot(                        \"26d9744c-cabe-40bb-b8b3-e242613a5936\",                        [{\"alignmentgroup\":\"True\",\"hovertemplate\":\"charges=%{x}<extra></extra>\",\"legendgroup\":\"\",\"marker\":{\"color\":\"#636efa\"},\"name\":\"\",\"notched\":false,\"offsetgroup\":\"\",\"orientation\":\"h\",\"showlegend\":false,\"x\":[38511.6283,21344.8467,6986.697,6710.1919,10370.91255,55135.40209,22192.43711,1633.9618,12644.589,12265.5069,7243.8136,14711.7438,3981.9768,11411.685,22218.1149,7518.02535,2899.48935,38709.176,17560.37975,9855.1314,3490.5491,46151.1245,11033.6617,8601.3293,4239.89265,8520.026,41949.2441,5148.5526,4529.477,5708.867,8125.7845,12928.7911,22412.6485,5240.765,16085.1275,1682.597,23967.38305,9386.1613,7152.6714,17748.5062,4134.08245,3268.84665,1633.0444,14455.64405,42303.69215,3176.8159,34166.273,5383.536,13880.949,3757.8448,13887.204,9282.4806,2727.3951,4846.92015,13019.16105,23563.01618,21082.16,7261.741,13635.6379,5709.1644,10493.9458,6686.4313,5152.134,1837.2819,16577.7795,9875.6804,3213.62205,18903.49141,6289.7549,10461.9794,2585.269,2803.69785,17085.2676,42112.2356,23244.7902,6457.8434,6875.961,11356.6609,2457.502,7729.64575,16420.49455,2257.47525,7526.70645,9724.53,6652.5288,1875.344,20296.86345,20745.9891,7050.642,30166.61817,6186.127,9144.565,10338.9316,7222.78625,8457.818,2166.732,8413.46305,3935.1799,1674.6323,2020.5523,2585.85065,26140.3603,12557.6053,7624.63,2755.02095,8964.06055,3392.3652,6128.79745,40974.1649,4686.3887,3021.80915,13112.6048,23288.9284,7640.3092,23045.56616,2719.27975,1986.9334,8334.5896,4753.6368,24520.264,4931.647,19933.458,38126.2465,2643.2685,13405.3903,7935.29115,1664.9996,37607.5277,24227.33724,10435.06525,10942.13205,5245.2269,36085.219,8932.084,2459.7201,1631.8212,11512.405,3989.841,2457.21115,4428.88785,13041.921,5375.038,1621.3402,7537.1639,10269.46,7160.094,9863.4718,2689.4954,13974.45555,3947.4131,28868.6639,39983.42595,33307.5508,34838.873,39727.614,2709.24395,11013.7119,20630.28351,5488.262,38746.3551,3861.20965,6082.405,11576.13,6203.90175,33732.6867,2566.4707,34439.8559,18328.2381,43753.33705,1632.56445,12268.63225,8603.8234,7954.517,21098.55405,11090.7178,3875.7341,7162.0122,8765.249,13224.05705,18806.14547,9877.6077,13555.0049,4544.2348,13747.87235,32787.45859,2203.47185,3481.868,1137.011,16297.846,2497.0383,7147.4728,13143.86485,13822.803,10702.6424,11289.10925,2639.0429,47291.055,1727.785,13844.506,19107.7796,34828.654,30942.1918,21880.82,42211.1382,12404.8791,14043.4767,10226.2842,17904.52705,13393.756,2904.088,4687.797,2597.779,11837.16,8891.1395,12124.9924,4357.04365,6238.298,10965.446,8527.532,9140.951,18033.9679,40182.246,16138.76205,5354.07465,27941.28758,25656.57526,12629.1656,1711.0268,10115.00885,13470.86,10560.4917,39597.4072,8442.667,4527.18295,8283.6807,12950.0712,4562.8421,6373.55735,20277.80751,34617.84065,28468.91901,3443.064,9411.005,7731.85785,4433.9159,33907.548,10791.96,36149.4835,12890.05765,11879.10405,39722.7462,14119.62,7441.501,9487.6442,10594.2257,11830.6072,8347.1643,6877.9801,4837.5823,12981.3457,4005.4225,11454.0215,2102.2647,8068.185,21223.6758,36307.7983,4402.233,24106.91255,27533.9129,2322.6218,5472.449,6496.886,8059.6791,13352.0998,19350.3689,2331.519,1725.5523,5003.853,10923.9332,12629.8967,4949.7587,8944.1151,2304.0022,4243.59005,8240.5896,1972.95,3484.331,4571.41305,12323.936,12957.118,11552.904,3070.8087,12592.5345,2690.1138,40419.0191,8823.98575,5969.723,30284.64294,43921.1837,5976.8311,7196.867,2721.3208,25081.76784,2534.39375,4296.2712,38711.0,25678.77845,15817.9857,1737.376,5972.378,3766.8838,39611.7577,9872.701,12574.049,22462.04375,12485.8009,2897.3235,2136.88225,10713.644,13012.20865,3176.2877,23241.47453,11743.9341,8027.968,12609.88702,48517.56315,2632.992,11436.73815,8782.469,5385.3379,5002.7827,24873.3849,10085.846,6311.952,35069.37452,8232.6388,5272.1758,21771.3423,12495.29085,1141.4451,12430.95335,4670.64,2730.10785,4347.02335,13981.85035,12233.828,5080.096,2045.68525,15820.699,14254.6082,13457.9608,3847.674,5125.2157,36189.1017,12142.5786,38282.7495,1704.5681,11365.952,6389.37785,3167.45585,1241.565,11881.9696,1242.816,8733.22925,2438.0552,10982.5013,15019.76005,4618.0799,1261.859,11165.41765,11931.12525,28476.73499,1743.214,11538.421,46113.511,10096.97,6664.68595,16796.41194,27346.04207,5458.04645,36197.699,2395.17155,41919.097,2416.955,13844.7972,6799.458,16069.08475,7623.518,2104.1134,5910.944,2261.5688,46889.2612,4877.98105,5478.0368,3046.062,8516.829,18972.495,4738.2682,11363.2832,34254.05335,40941.2854,9957.7216,18963.17192,2219.4451,14007.222,41676.0811,14001.1338,1635.73365,1263.249,11674.13,3044.2133,7512.267,4337.7352,4934.705,12244.531,2867.1196,2483.736,5615.369,3943.5954,10118.424,39241.442,5989.52365,10072.05505,36021.0112,25382.297,34779.615,7046.7222,28287.89766,2710.82855,14256.1928,36580.28216,7742.1098,7789.635,9866.30485,1149.3959,7281.5056,2362.22905,7077.1894,2842.76075,26236.57997,16450.8947,6571.02435,6781.3542,10107.2206,17929.30337,13415.0381,46718.16325,6338.0756,1759.338,11938.25595,10976.24575,40720.55105,7441.053,3659.346,13430.265,2302.3,3556.9223,11520.09985,11244.3769,9447.3824,3972.9247,8023.13545,4894.7533,17663.1442,10564.8845,4435.0942,3077.0955,6770.1925,4349.462,14394.5579,30184.9367,27375.90478,2211.13075,27322.73386,6551.7501,1712.227,19444.2658,23401.30575,7443.64305,6123.5688,8988.15875,26926.5144,40273.6455,4673.3922,12231.6136,1534.3045,2198.18985,1639.5631,46255.1125,5974.3847,5836.5204,22331.5668,1720.3537,11093.6229,11362.755,12096.6512,1253.936,1826.843,1261.442,14590.63205,11737.84884,26467.09737,2523.1695,1708.92575,7348.142,8615.3,9634.538,27218.43725,8083.9198,7173.35995,12032.326,16884.924,6455.86265,8825.086,3500.6123,7045.499,2404.7338,14901.5167,60021.39897,19594.80965,47928.03,3279.86855,36898.73308,9722.7695,8605.3615,14571.8908,3366.6697,35147.52848,2217.46915,3645.0894,14478.33015,20167.33603,1634.5734,4234.927,34672.1472,46661.4424,6837.3687,3062.50825,38998.546,43578.9394,19515.5416,5266.3656,39125.33225,1837.237,6940.90985,8062.764,3392.9768,12044.342,9288.0267,24667.419,5926.846,13462.52,2020.177,21659.9301,9778.3472,47896.79135,8116.68,1728.897,10579.711,12648.7034,8978.1851,8515.7587,4463.2051,6948.7008,9447.25035,29186.48236,11840.77505,10355.641,12829.4551,13129.60345,5662.225,9880.068,3260.199,4237.12655,1708.0014,1256.299,7985.815,4922.9159,3591.48,37079.372,4462.7218,3925.7582,4449.462,20709.02034,9583.8933,3410.324,43813.8661,5312.16985,11881.358,11085.5868,4350.5144,2138.0707,35491.64,26018.95052,1969.614,47305.305,11554.2236,2464.6188,9048.0273,10197.7722,11345.519,19719.6947,6272.4772,32734.1863,1694.7964,4189.1131,4149.736,42969.8527,1880.487,2134.9015,6402.29135,6796.86325,6184.2994,12029.2867,2217.6012,33900.653,1909.52745,5693.4305,7337.748,8688.85885,5257.50795,7727.2532,40904.1995,14313.8463,2203.73595,13126.67745,6775.961,39836.519,10977.2063,38792.6856,4058.71245,20149.3229,24603.04837,1632.03625,30259.99556,15612.19335,9174.13565,2680.9493,5920.1041,2473.3341,12815.44495,6406.4107,25517.11363,36397.576,39725.51805,6666.243,1917.3184,17043.3414,7323.734819,9193.8385,6250.435,11455.28,20462.99766,26125.67477,12347.172,11848.141,2527.81865,4915.05985,6067.12675,7418.522,11305.93455,18157.876,8930.93455,8538.28845,5253.524,13047.33235,13228.84695,2128.43105,11150.78,2130.6759,8965.79575,38415.474,34806.4677,35160.13457,11833.7823,1646.4297,6313.759,2026.9741,10325.206,49577.6624,8444.474,39871.7043,4830.63,34303.1672,4889.9995,10704.47,24915.04626,9222.4026,13451.122,42856.838,44400.4064,1727.54,6610.1097,8302.53565,10106.13425,9620.3307,7050.0213,6112.35295,3056.3881,11326.71487,14394.39815,8116.26885,25992.82104,17496.306,17468.9839,1977.815,7325.0482,4260.744,19749.38338,10959.6947,2480.9791,13770.0979,4766.022,8823.279,28923.13692,7445.918,14410.9321,1842.519,2103.08,19214.70553,13607.36875,20878.78443,8252.2843,13831.1152,44202.6536,2789.0574,22395.74424,8211.1002,5630.45785,24180.9335,8219.2039,8968.33,11884.04858,2254.7967,33471.97189,15359.1045,3994.1778,3471.4096,2699.56835,48675.5177,13470.8044,1629.8335,15828.82173,8604.48365,9869.8102,2200.83085,9283.562,4667.60765,13204.28565,4751.07,6059.173,10795.93733,2801.2588,5438.7491,6858.4796,5425.02335,12094.478,10928.849,3309.7926,1832.094,7804.1605,37270.1512,10156.7832,51194.55914,15555.18875,8334.45755,4992.3764,24059.68019,45702.02235,6746.7425,17361.7661,9788.8659,9377.9047,11856.4115,6198.7518,1625.43375,11741.726,47055.5321,2494.022,5327.40025,47496.49445,37165.1638,29523.1656,12913.9924,10381.4787,8539.671,2498.4144,36124.5737,3866.8552,13616.3586,13143.33665,11299.343,40103.89,13919.8229,5116.5004,4320.41085,12523.6048,4719.52405,21984.47061,11658.11505,1136.3994,10736.87075,40932.4295,27037.9141,9910.35985,8569.8618,23306.547,3537.703,2117.33885,3906.127,6985.50695,9101.798,8556.907,8534.6718,11381.3254,7749.1564,18246.4955,48673.5588,9715.841,3558.62025,29330.98315,1391.5287,8017.06115,3877.30425,6653.7886,42124.5153,12949.1554,36910.60803,44585.45587,27000.98473,48173.361,6360.9936,3756.6216,4133.64165,13887.9685,6282.235,3987.926,4661.28635,20420.60465,3353.284,3579.8287,12363.547,6555.07035,9625.92,25309.489,6571.544,4779.6023,3208.787,18955.22017,1877.9294,48885.13561,1121.8739,21195.818,11253.421,33750.2918,6079.6715,7358.17565,3385.39915,27724.28875,42560.4304,6196.448,3238.4357,9644.2525,13429.0354,10601.412,3206.49135,4646.759,6600.361,8551.347,3201.24515,5428.7277,1880.07,2927.0647,20781.48892,7639.41745,17081.08,5966.8874,4762.329,4433.3877,9391.346,8026.6666,8671.19125,7633.7206,5594.8455,10264.4421,16657.71745,5934.3798,8277.523,4883.866,3704.3545,12333.828,3292.52985,12730.9996,2207.69745,4564.19145,7419.4779,4074.4537,11657.7189,9617.66245,14449.8544,9549.5651,12638.195,18259.216,11763.0009,5012.471,6113.23105,3597.596,6600.20595,19496.71917,1702.4553,15161.5344,8124.4084,37742.5757,1137.4697,10601.63225,4518.82625,4391.652,11729.6795,12797.20962,8871.1517,37133.8982,7448.40395,42760.5022,14001.2867,13725.47184,3180.5101,20177.67113,13217.0945,17179.522,10450.552,5377.4578,11944.59435,3161.454,32108.66282,23065.4207,9182.17],\"x0\":\" \",\"xaxis\":\"x\",\"y0\":\" \",\"yaxis\":\"y\",\"type\":\"box\"}],                        {\"template\":{\"data\":{\"histogram2dcontour\":[{\"type\":\"histogram2dcontour\",\"colorbar\":{\"outlinewidth\":0,\"ticks\":\"\"},\"colorscale\":[[0.0,\"#0d0887\"],[0.1111111111111111,\"#46039f\"],[0.2222222222222222,\"#7201a8\"],[0.3333333333333333,\"#9c179e\"],[0.4444444444444444,\"#bd3786\"],[0.5555555555555556,\"#d8576b\"],[0.6666666666666666,\"#ed7953\"],[0.7777777777777778,\"#fb9f3a\"],[0.8888888888888888,\"#fdca26\"],[1.0,\"#f0f921\"]]}],\"choropleth\":[{\"type\":\"choropleth\",\"colorbar\":{\"outlinewidth\":0,\"ticks\":\"\"}}],\"histogram2d\":[{\"type\":\"histogram2d\",\"colorbar\":{\"outlinewidth\":0,\"ticks\":\"\"},\"colorscale\":[[0.0,\"#0d0887\"],[0.1111111111111111,\"#46039f\"],[0.2222222222222222,\"#7201a8\"],[0.3333333333333333,\"#9c179e\"],[0.4444444444444444,\"#bd3786\"],[0.5555555555555556,\"#d8576b\"],[0.6666666666666666,\"#ed7953\"],[0.7777777777777778,\"#fb9f3a\"],[0.8888888888888888,\"#fdca26\"],[1.0,\"#f0f921\"]]}],\"heatmap\":[{\"type\":\"heatmap\",\"colorbar\":{\"outlinewidth\":0,\"ticks\":\"\"},\"colorscale\":[[0.0,\"#0d0887\"],[0.1111111111111111,\"#46039f\"],[0.2222222222222222,\"#7201a8\"],[0.3333333333333333,\"#9c179e\"],[0.4444444444444444,\"#bd3786\"],[0.5555555555555556,\"#d8576b\"],[0.6666666666666666,\"#ed7953\"],[0.7777777777777778,\"#fb9f3a\"],[0.8888888888888888,\"#fdca26\"],[1.0,\"#f0f921\"]]}],\"heatmapgl\":[{\"type\":\"heatmapgl\",\"colorbar\":{\"outlinewidth\":0,\"ticks\":\"\"},\"colorscale\":[[0.0,\"#0d0887\"],[0.1111111111111111,\"#46039f\"],[0.2222222222222222,\"#7201a8\"],[0.3333333333333333,\"#9c179e\"],[0.4444444444444444,\"#bd3786\"],[0.5555555555555556,\"#d8576b\"],[0.6666666666666666,\"#ed7953\"],[0.7777777777777778,\"#fb9f3a\"],[0.8888888888888888,\"#fdca26\"],[1.0,\"#f0f921\"]]}],\"contourcarpet\":[{\"type\":\"contourcarpet\",\"colorbar\":{\"outlinewidth\":0,\"ticks\":\"\"}}],\"contour\":[{\"type\":\"contour\",\"colorbar\":{\"outlinewidth\":0,\"ticks\":\"\"},\"colorscale\":[[0.0,\"#0d0887\"],[0.1111111111111111,\"#46039f\"],[0.2222222222222222,\"#7201a8\"],[0.3333333333333333,\"#9c179e\"],[0.4444444444444444,\"#bd3786\"],[0.5555555555555556,\"#d8576b\"],[0.6666666666666666,\"#ed7953\"],[0.7777777777777778,\"#fb9f3a\"],[0.8888888888888888,\"#fdca26\"],[1.0,\"#f0f921\"]]}],\"surface\":[{\"type\":\"surface\",\"colorbar\":{\"outlinewidth\":0,\"ticks\":\"\"},\"colorscale\":[[0.0,\"#0d0887\"],[0.1111111111111111,\"#46039f\"],[0.2222222222222222,\"#7201a8\"],[0.3333333333333333,\"#9c179e\"],[0.4444444444444444,\"#bd3786\"],[0.5555555555555556,\"#d8576b\"],[0.6666666666666666,\"#ed7953\"],[0.7777777777777778,\"#fb9f3a\"],[0.8888888888888888,\"#fdca26\"],[1.0,\"#f0f921\"]]}],\"mesh3d\":[{\"type\":\"mesh3d\",\"colorbar\":{\"outlinewidth\":0,\"ticks\":\"\"}}],\"scatter\":[{\"fillpattern\":{\"fillmode\":\"overlay\",\"size\":10,\"solidity\":0.2},\"type\":\"scatter\"}],\"parcoords\":[{\"type\":\"parcoords\",\"line\":{\"colorbar\":{\"outlinewidth\":0,\"ticks\":\"\"}}}],\"scatterpolargl\":[{\"type\":\"scatterpolargl\",\"marker\":{\"colorbar\":{\"outlinewidth\":0,\"ticks\":\"\"}}}],\"bar\":[{\"error_x\":{\"color\":\"#2a3f5f\"},\"error_y\":{\"color\":\"#2a3f5f\"},\"marker\":{\"line\":{\"color\":\"#E5ECF6\",\"width\":0.5},\"pattern\":{\"fillmode\":\"overlay\",\"size\":10,\"solidity\":0.2}},\"type\":\"bar\"}],\"scattergeo\":[{\"type\":\"scattergeo\",\"marker\":{\"colorbar\":{\"outlinewidth\":0,\"ticks\":\"\"}}}],\"scatterpolar\":[{\"type\":\"scatterpolar\",\"marker\":{\"colorbar\":{\"outlinewidth\":0,\"ticks\":\"\"}}}],\"histogram\":[{\"marker\":{\"pattern\":{\"fillmode\":\"overlay\",\"size\":10,\"solidity\":0.2}},\"type\":\"histogram\"}],\"scattergl\":[{\"type\":\"scattergl\",\"marker\":{\"colorbar\":{\"outlinewidth\":0,\"ticks\":\"\"}}}],\"scatter3d\":[{\"type\":\"scatter3d\",\"line\":{\"colorbar\":{\"outlinewidth\":0,\"ticks\":\"\"}},\"marker\":{\"colorbar\":{\"outlinewidth\":0,\"ticks\":\"\"}}}],\"scattermapbox\":[{\"type\":\"scattermapbox\",\"marker\":{\"colorbar\":{\"outlinewidth\":0,\"ticks\":\"\"}}}],\"scatterternary\":[{\"type\":\"scatterternary\",\"marker\":{\"colorbar\":{\"outlinewidth\":0,\"ticks\":\"\"}}}],\"scattercarpet\":[{\"type\":\"scattercarpet\",\"marker\":{\"colorbar\":{\"outlinewidth\":0,\"ticks\":\"\"}}}],\"carpet\":[{\"aaxis\":{\"endlinecolor\":\"#2a3f5f\",\"gridcolor\":\"white\",\"linecolor\":\"white\",\"minorgridcolor\":\"white\",\"startlinecolor\":\"#2a3f5f\"},\"baxis\":{\"endlinecolor\":\"#2a3f5f\",\"gridcolor\":\"white\",\"linecolor\":\"white\",\"minorgridcolor\":\"white\",\"startlinecolor\":\"#2a3f5f\"},\"type\":\"carpet\"}],\"table\":[{\"cells\":{\"fill\":{\"color\":\"#EBF0F8\"},\"line\":{\"color\":\"white\"}},\"header\":{\"fill\":{\"color\":\"#C8D4E3\"},\"line\":{\"color\":\"white\"}},\"type\":\"table\"}],\"barpolar\":[{\"marker\":{\"line\":{\"color\":\"#E5ECF6\",\"width\":0.5},\"pattern\":{\"fillmode\":\"overlay\",\"size\":10,\"solidity\":0.2}},\"type\":\"barpolar\"}],\"pie\":[{\"automargin\":true,\"type\":\"pie\"}]},\"layout\":{\"autotypenumbers\":\"strict\",\"colorway\":[\"#636efa\",\"#EF553B\",\"#00cc96\",\"#ab63fa\",\"#FFA15A\",\"#19d3f3\",\"#FF6692\",\"#B6E880\",\"#FF97FF\",\"#FECB52\"],\"font\":{\"color\":\"#2a3f5f\"},\"hovermode\":\"closest\",\"hoverlabel\":{\"align\":\"left\"},\"paper_bgcolor\":\"white\",\"plot_bgcolor\":\"#E5ECF6\",\"polar\":{\"bgcolor\":\"#E5ECF6\",\"angularaxis\":{\"gridcolor\":\"white\",\"linecolor\":\"white\",\"ticks\":\"\"},\"radialaxis\":{\"gridcolor\":\"white\",\"linecolor\":\"white\",\"ticks\":\"\"}},\"ternary\":{\"bgcolor\":\"#E5ECF6\",\"aaxis\":{\"gridcolor\":\"white\",\"linecolor\":\"white\",\"ticks\":\"\"},\"baxis\":{\"gridcolor\":\"white\",\"linecolor\":\"white\",\"ticks\":\"\"},\"caxis\":{\"gridcolor\":\"white\",\"linecolor\":\"white\",\"ticks\":\"\"}},\"coloraxis\":{\"colorbar\":{\"outlinewidth\":0,\"ticks\":\"\"}},\"colorscale\":{\"sequential\":[[0.0,\"#0d0887\"],[0.1111111111111111,\"#46039f\"],[0.2222222222222222,\"#7201a8\"],[0.3333333333333333,\"#9c179e\"],[0.4444444444444444,\"#bd3786\"],[0.5555555555555556,\"#d8576b\"],[0.6666666666666666,\"#ed7953\"],[0.7777777777777778,\"#fb9f3a\"],[0.8888888888888888,\"#fdca26\"],[1.0,\"#f0f921\"]],\"sequentialminus\":[[0.0,\"#0d0887\"],[0.1111111111111111,\"#46039f\"],[0.2222222222222222,\"#7201a8\"],[0.3333333333333333,\"#9c179e\"],[0.4444444444444444,\"#bd3786\"],[0.5555555555555556,\"#d8576b\"],[0.6666666666666666,\"#ed7953\"],[0.7777777777777778,\"#fb9f3a\"],[0.8888888888888888,\"#fdca26\"],[1.0,\"#f0f921\"]],\"diverging\":[[0,\"#8e0152\"],[0.1,\"#c51b7d\"],[0.2,\"#de77ae\"],[0.3,\"#f1b6da\"],[0.4,\"#fde0ef\"],[0.5,\"#f7f7f7\"],[0.6,\"#e6f5d0\"],[0.7,\"#b8e186\"],[0.8,\"#7fbc41\"],[0.9,\"#4d9221\"],[1,\"#276419\"]]},\"xaxis\":{\"gridcolor\":\"white\",\"linecolor\":\"white\",\"ticks\":\"\",\"title\":{\"standoff\":15},\"zerolinecolor\":\"white\",\"automargin\":true,\"zerolinewidth\":2},\"yaxis\":{\"gridcolor\":\"white\",\"linecolor\":\"white\",\"ticks\":\"\",\"title\":{\"standoff\":15},\"zerolinecolor\":\"white\",\"automargin\":true,\"zerolinewidth\":2},\"scene\":{\"xaxis\":{\"backgroundcolor\":\"#E5ECF6\",\"gridcolor\":\"white\",\"linecolor\":\"white\",\"showbackground\":true,\"ticks\":\"\",\"zerolinecolor\":\"white\",\"gridwidth\":2},\"yaxis\":{\"backgroundcolor\":\"#E5ECF6\",\"gridcolor\":\"white\",\"linecolor\":\"white\",\"showbackground\":true,\"ticks\":\"\",\"zerolinecolor\":\"white\",\"gridwidth\":2},\"zaxis\":{\"backgroundcolor\":\"#E5ECF6\",\"gridcolor\":\"white\",\"linecolor\":\"white\",\"showbackground\":true,\"ticks\":\"\",\"zerolinecolor\":\"white\",\"gridwidth\":2}},\"shapedefaults\":{\"line\":{\"color\":\"#2a3f5f\"}},\"annotationdefaults\":{\"arrowcolor\":\"#2a3f5f\",\"arrowhead\":0,\"arrowwidth\":1},\"geo\":{\"bgcolor\":\"white\",\"landcolor\":\"#E5ECF6\",\"subunitcolor\":\"white\",\"showland\":true,\"showlakes\":true,\"lakecolor\":\"white\"},\"title\":{\"x\":0.05},\"mapbox\":{\"style\":\"light\"}}},\"xaxis\":{\"anchor\":\"y\",\"domain\":[0.0,1.0],\"title\":{\"text\":\"charges\"}},\"yaxis\":{\"anchor\":\"x\",\"domain\":[0.0,1.0]},\"legend\":{\"tracegroupgap\":0},\"title\":{\"text\":\"Boxplot de la variable charges\"},\"boxmode\":\"group\"},                        {\"responsive\": true}                    ).then(function(){\n",
                            "                            \n",
                            "var gd = document.getElementById('26d9744c-cabe-40bb-b8b3-e242613a5936');\n",
                            "var x = new MutationObserver(function (mutations, observer) {{\n",
                            "        var display = window.getComputedStyle(gd).display;\n",
                            "        if (!display || display === 'none') {{\n",
                            "            console.log([gd, 'removed!']);\n",
                            "            Plotly.purge(gd);\n",
                            "            observer.disconnect();\n",
                            "        }}\n",
                            "}});\n",
                            "\n",
                            "// Listen for the removal of the full notebook cells\n",
                            "var notebookContainer = gd.closest('#notebook-container');\n",
                            "if (notebookContainer) {{\n",
                            "    x.observe(notebookContainer, {childList: true});\n",
                            "}}\n",
                            "\n",
                            "// Listen for the clearing of the current output cell\n",
                            "var outputEl = gd.closest('.output');\n",
                            "if (outputEl) {{\n",
                            "    x.observe(outputEl, {childList: true});\n",
                            "}}\n",
                            "\n",
                            "                        })                };                });            </script>        </div>"
                        ]
                    },
                    "metadata": {},
                    "output_type": "display_data"
                }
            ],
            "source": [
                "fig = px.box(df_train, x='charges', title='Boxplot de la variable charges')\n",
                "fig.show()"
            ]
        },
        {
            "cell_type": "code",
            "execution_count": 62,
            "metadata": {},
            "outputs": [
                {
                    "data": {
                        "image/png": "[encoded data removed]",
                        "text/plain": [
                            "<Figure size 432x288 with 1 Axes>"
                        ]
                    },
                    "metadata": {
                        "needs_background": "light"
                    },
                    "output_type": "display_data"
                }
            ],
            "source": [
                "plt.hist(df_train[df_train['sex']==0]['charges'], label='male')\n",
                "plt.hist(df_train[df_train['sex']==1]['charges'], label='female', alpha=0.5)\n",
                "plt.title('Histograma de charges por sexo')\n",
                "plt.legend()\n",
                "plt.show()"
            ]
        },
        {
            "cell_type": "code",
            "execution_count": 63,
            "metadata": {},
            "outputs": [
                {
                    "data": {
                        "image/png": "[encoded data removed]",
                        "text/plain": [
                            "<Figure size 432x288 with 1 Axes>"
                        ]
                    },
                    "metadata": {
                        "needs_background": "light"
                    },
                    "output_type": "display_data"
                }
            ],
            "source": [
                "plt.plot(df_train['age'], df_train['charges'], 'o')\n",
                "plt.xlabel('Age')\n",
                "plt.ylabel('Charges')\n",
                "plt.title('Age vs Charges')\n",
                "plt.show()"
            ]
        },
        {
            "cell_type": "markdown",
            "metadata": {},
            "source": [
                "Hay tres \"franjas\" de precios. Dentro de cada franja el precio aumenta con la edad."
            ]
        },
        {
            "cell_type": "code",
            "execution_count": 64,
            "metadata": {},
            "outputs": [
                {
                    "data": {
                        "image/png": "[encoded data removed]",
                        "text/plain": [
                            "<Figure size 432x288 with 1 Axes>"
                        ]
                    },
                    "metadata": {
                        "needs_background": "light"
                    },
                    "output_type": "display_data"
                }
            ],
            "source": [
                "plt.plot(df_train['age'][df_train['sex']==0], df_train['charges'][df_train['sex']==0], 'rx', label='female')\n",
                "plt.plot(df_train['age'][df_train['sex']==1], df_train['charges'][df_train['sex']==1], 'bo', alpha=0.5, label='male')\n",
                "plt.xlabel('Age')\n",
                "plt.ylabel('Charges')\n",
                "plt.title('Age vs charges by sex')\n",
                "plt.legend()\n",
                "plt.show()"
            ]
        },
        {
            "cell_type": "markdown",
            "metadata": {},
            "source": [
                "En principio el sexo no parecería influir."
            ]
        },
        {
            "cell_type": "code",
            "execution_count": 65,
            "metadata": {},
            "outputs": [
                {
                    "data": {
                        "image/png": "[encoded data removed]",
                        "text/plain": [
                            "<Figure size 432x288 with 1 Axes>"
                        ]
                    },
                    "metadata": {
                        "needs_background": "light"
                    },
                    "output_type": "display_data"
                }
            ],
            "source": [
                "plt.plot(df_train['age'][df_train['smoker']==0], df_train['charges'][df_train['smoker']==0], 'rx', label='non smoker')\n",
                "plt.plot(df_train['age'][df_train['smoker']==1], df_train['charges'][df_train['smoker']==1], 'bo', alpha=0.5, label='smoker')\n",
                "plt.xlabel('Age')\n",
                "plt.ylabel('Charges')\n",
                "plt.title('Age vs charges by smoker status')\n",
                "plt.legend()\n",
                "plt.show()"
            ]
        },
        {
            "cell_type": "markdown",
            "metadata": {},
            "source": [
                "Las personas que fuman (azul) no están en la primera franja (menor precio), solo en las dos más caras."
            ]
        },
        {
            "cell_type": "code",
            "execution_count": 66,
            "metadata": {},
            "outputs": [
                {
                    "data": {
                        "image/png": "[encoded data removed]",
                        "text/plain": [
                            "<Figure size 432x288 with 1 Axes>"
                        ]
                    },
                    "metadata": {
                        "needs_background": "light"
                    },
                    "output_type": "display_data"
                }
            ],
            "source": [
                "plt.plot(df_train['age'][df_train['region']==0], df_train['charges'][df_train['region']==0], 'rx', label='southeast')\n",
                "plt.plot(df_train['age'][df_train['region']==1], df_train['charges'][df_train['region']==1], 'bx', alpha=0.5, label='southwest')\n",
                "plt.plot(df_train['age'][df_train['region']==2], df_train['charges'][df_train['region']==2], 'ko', alpha=0.5, label='northwest')\n",
                "plt.plot(df_train['age'][df_train['region']==3], df_train['charges'][df_train['region']==3], 'co', alpha=0.5, label='northeast')\n",
                "plt.title('Age vs charges by region')\n",
                "plt.legend()\n",
                "plt.show()"
            ]
        },
        {
            "cell_type": "markdown",
            "metadata": {},
            "source": [
                "La región no parecería influir en el precio."
            ]
        },
        {
            "cell_type": "code",
            "execution_count": 68,
            "metadata": {},
            "outputs": [
                {
                    "data": {
                        "image/png": "[encoded data removed]",
                        "text/plain": [
                            "<Figure size 432x288 with 1 Axes>"
                        ]
                    },
                    "metadata": {
                        "needs_background": "light"
                    },
                    "output_type": "display_data"
                }
            ],
            "source": [
                "#plt.plot(df['age'][df['children']==0], df['charges'][df['children']==0], 'rx')\n",
                "#plt.plot(df['age'][df['children']==1], df['charges'][df['children']==1], 'bx', alpha=0.5)\n",
                "#plt.plot(df['age'][df['children']==2], df['charges'][df['children']==2], 'kx', alpha=0.5)\n",
                "plt.plot(df_train['age'][df_train['children']==3], df_train['charges'][df_train['children']==3], 'co', alpha=0.5, label='3 children')\n",
                "plt.plot(df_train['age'][df_train['children']==4], df_train['charges'][df_train['children']==4], 'yo', alpha=0.5, label = '4 children')\n",
                "plt.plot(df_train['age'][df_train['children']==5], df_train['charges'][df_train['children']==5], 'mo', alpha=0.5, label = '5 children')\n",
                "plt.xlabel('Age')\n",
                "plt.ylabel('Charges')\n",
                "plt.title('Age vs charges by number of dependents')\n",
                "plt.legend()\n",
                "plt.show()"
            ]
        },
        {
            "cell_type": "markdown",
            "metadata": {},
            "source": [
                "Las personas con 5 niños están en general en la primera franja.\n",
                "Las personas con 4 niños están en general en la primera o segunda franja.\n",
                "\n",
                "(Menor costo individual por varias personas aseguradas)"
            ]
        },
        {
            "cell_type": "code",
            "execution_count": 69,
            "metadata": {},
            "outputs": [
                {
                    "data": {
                        "image/png": "[encoded data removed]",
                        "text/plain": [
                            "<Figure size 432x288 with 1 Axes>"
                        ]
                    },
                    "metadata": {
                        "needs_background": "light"
                    },
                    "output_type": "display_data"
                }
            ],
            "source": [
                "plt.plot(df_train['bmi'][df_train['smoker']==0], df_train['charges'][df_train['smoker']==0], 'rx', label='non smoker')\n",
                "plt.plot(df_train['bmi'][df_train['smoker']==1], df_train['charges'][df_train['smoker']==1], 'bo', alpha=0.5, label='smoker')\n",
                "plt.xlabel('BMI')\n",
                "plt.ylabel('Charges')\n",
                "plt.title('BMI vs charges by smoker status')\n",
                "plt.legend()\n",
                "plt.show()"
            ]
        },
        {
            "cell_type": "markdown",
            "metadata": {},
            "source": [
                "Los fumadores con BMI mayor a 30 (aproximadamente) tienen precios más altos que los fumadores con menor BMI."
            ]
        },
        {
            "cell_type": "markdown",
            "metadata": {},
            "source": [
                "**Análisis de correlación de las variables**"
            ]
        },
        {
            "cell_type": "code",
            "execution_count": 70,
            "metadata": {},
            "outputs": [
                {
                    "data": {
                        "text/html": [
                            "<style type=\"text/css\">\n",
                            "#T_e7b80_row0_col0, #T_e7b80_row1_col1, #T_e7b80_row2_col2, #T_e7b80_row3_col3, #T_e7b80_row4_col4, #T_e7b80_row5_col5 {\n",
                            "  background-color: #08306b;\n",
                            "  color: #f1f1f1;\n",
                            "}\n",
                            "#T_e7b80_row0_col1, #T_e7b80_row2_col5, #T_e7b80_row4_col0, #T_e7b80_row5_col2, #T_e7b80_row5_col3, #T_e7b80_row5_col4 {\n",
                            "  background-color: #f7fbff;\n",
                            "  color: #000000;\n",
                            "}\n",
                            "#T_e7b80_row0_col2 {\n",
                            "  background-color: #bcd7eb;\n",
                            "  color: #000000;\n",
                            "}\n",
                            "#T_e7b80_row0_col3 {\n",
                            "  background-color: #e8f1fa;\n",
                            "  color: #000000;\n",
                            "}\n",
                            "#T_e7b80_row0_col4, #T_e7b80_row1_col0 {\n",
                            "  background-color: #f4f9fe;\n",
                            "  color: #000000;\n",
                            "}\n",
                            "#T_e7b80_row0_col5 {\n",
                            "  background-color: #cfe1f2;\n",
                            "  color: #000000;\n",
                            "}\n",
                            "#T_e7b80_row1_col2 {\n",
                            "  background-color: #c7dcef;\n",
                            "  color: #000000;\n",
                            "}\n",
                            "#T_e7b80_row1_col3, #T_e7b80_row2_col1, #T_e7b80_row3_col1, #T_e7b80_row3_col4 {\n",
                            "  background-color: #eaf2fb;\n",
                            "  color: #000000;\n",
                            "}\n",
                            "#T_e7b80_row1_col4, #T_e7b80_row2_col0 {\n",
                            "  background-color: #dceaf6;\n",
                            "  color: #000000;\n",
                            "}\n",
                            "#T_e7b80_row1_col5 {\n",
                            "  background-color: #d1e2f3;\n",
                            "  color: #000000;\n",
                            "}\n",
                            "#T_e7b80_row2_col3, #T_e7b80_row5_col0 {\n",
                            "  background-color: #eff6fc;\n",
                            "  color: #000000;\n",
                            "}\n",
                            "#T_e7b80_row2_col4 {\n",
                            "  background-color: #ebf3fb;\n",
                            "  color: #000000;\n",
                            "}\n",
                            "#T_e7b80_row3_col0 {\n",
                            "  background-color: #e5eff9;\n",
                            "  color: #000000;\n",
                            "}\n",
                            "#T_e7b80_row3_col2 {\n",
                            "  background-color: #ccdff1;\n",
                            "  color: #000000;\n",
                            "}\n",
                            "#T_e7b80_row3_col5 {\n",
                            "  background-color: #d2e3f3;\n",
                            "  color: #000000;\n",
                            "}\n",
                            "#T_e7b80_row4_col1 {\n",
                            "  background-color: #e2edf8;\n",
                            "  color: #000000;\n",
                            "}\n",
                            "#T_e7b80_row4_col2 {\n",
                            "  background-color: #cee0f2;\n",
                            "  color: #000000;\n",
                            "}\n",
                            "#T_e7b80_row4_col3 {\n",
                            "  background-color: #f0f6fd;\n",
                            "  color: #000000;\n",
                            "}\n",
                            "#T_e7b80_row4_col5 {\n",
                            "  background-color: #d8e7f5;\n",
                            "  color: #000000;\n",
                            "}\n",
                            "#T_e7b80_row5_col1 {\n",
                            "  background-color: #f6faff;\n",
                            "  color: #000000;\n",
                            "}\n",
                            "</style>\n",
                            "<table id=\"T_e7b80\">\n",
                            "  <thead>\n",
                            "    <tr>\n",
                            "      <th class=\"blank level0\" >&nbsp;</th>\n",
                            "      <th id=\"T_e7b80_level0_col0\" class=\"col_heading level0 col0\" >age</th>\n",
                            "      <th id=\"T_e7b80_level0_col1\" class=\"col_heading level0 col1\" >sex</th>\n",
                            "      <th id=\"T_e7b80_level0_col2\" class=\"col_heading level0 col2\" >bmi</th>\n",
                            "      <th id=\"T_e7b80_level0_col3\" class=\"col_heading level0 col3\" >children</th>\n",
                            "      <th id=\"T_e7b80_level0_col4\" class=\"col_heading level0 col4\" >smoker</th>\n",
                            "      <th id=\"T_e7b80_level0_col5\" class=\"col_heading level0 col5\" >region</th>\n",
                            "    </tr>\n",
                            "  </thead>\n",
                            "  <tbody>\n",
                            "    <tr>\n",
                            "      <th id=\"T_e7b80_level0_row0\" class=\"row_heading level0 row0\" >age</th>\n",
                            "      <td id=\"T_e7b80_row0_col0\" class=\"data row0 col0\" >1.000000</td>\n",
                            "      <td id=\"T_e7b80_row0_col1\" class=\"data row0 col1\" >-0.032697</td>\n",
                            "      <td id=\"T_e7b80_row0_col2\" class=\"data row0 col2\" >0.091275</td>\n",
                            "      <td id=\"T_e7b80_row0_col3\" class=\"data row0 col3\" >0.044613</td>\n",
                            "      <td id=\"T_e7b80_row0_col4\" class=\"data row0 col4\" >-0.050736</td>\n",
                            "      <td id=\"T_e7b80_row0_col5\" class=\"data row0 col5\" >-0.009451</td>\n",
                            "    </tr>\n",
                            "    <tr>\n",
                            "      <th id=\"T_e7b80_level0_row1\" class=\"row_heading level0 row1\" >sex</th>\n",
                            "      <td id=\"T_e7b80_row1_col0\" class=\"data row1 col0\" >-0.032697</td>\n",
                            "      <td id=\"T_e7b80_row1_col1\" class=\"data row1 col1\" >1.000000</td>\n",
                            "      <td id=\"T_e7b80_row1_col2\" class=\"data row1 col2\" >0.038143</td>\n",
                            "      <td id=\"T_e7b80_row1_col3\" class=\"data row1 col3\" >0.038919</td>\n",
                            "      <td id=\"T_e7b80_row1_col4\" class=\"data row1 col4\" >0.076744</td>\n",
                            "      <td id=\"T_e7b80_row1_col5\" class=\"data row1 col5\" >-0.025217</td>\n",
                            "    </tr>\n",
                            "    <tr>\n",
                            "      <th id=\"T_e7b80_level0_row2\" class=\"row_heading level0 row2\" >bmi</th>\n",
                            "      <td id=\"T_e7b80_row2_col0\" class=\"data row2 col0\" >0.091275</td>\n",
                            "      <td id=\"T_e7b80_row2_col1\" class=\"data row2 col1\" >0.038143</td>\n",
                            "      <td id=\"T_e7b80_row2_col2\" class=\"data row2 col2\" >1.000000</td>\n",
                            "      <td id=\"T_e7b80_row2_col3\" class=\"data row2 col3\" >0.009979</td>\n",
                            "      <td id=\"T_e7b80_row2_col4\" class=\"data row2 col4\" >-0.003277</td>\n",
                            "      <td id=\"T_e7b80_row2_col5\" class=\"data row2 col5\" >-0.270704</td>\n",
                            "    </tr>\n",
                            "    <tr>\n",
                            "      <th id=\"T_e7b80_level0_row3\" class=\"row_heading level0 row3\" >children</th>\n",
                            "      <td id=\"T_e7b80_row3_col0\" class=\"data row3 col0\" >0.044613</td>\n",
                            "      <td id=\"T_e7b80_row3_col1\" class=\"data row3 col1\" >0.038919</td>\n",
                            "      <td id=\"T_e7b80_row3_col2\" class=\"data row3 col2\" >0.009979</td>\n",
                            "      <td id=\"T_e7b80_row3_col3\" class=\"data row3 col3\" >1.000000</td>\n",
                            "      <td id=\"T_e7b80_row3_col4\" class=\"data row3 col4\" >0.006098</td>\n",
                            "      <td id=\"T_e7b80_row3_col5\" class=\"data row3 col5\" >-0.032131</td>\n",
                            "    </tr>\n",
                            "    <tr>\n",
                            "      <th id=\"T_e7b80_level0_row4\" class=\"row_heading level0 row4\" >smoker</th>\n",
                            "      <td id=\"T_e7b80_row4_col0\" class=\"data row4 col0\" >-0.050736</td>\n",
                            "      <td id=\"T_e7b80_row4_col1\" class=\"data row4 col1\" >0.076744</td>\n",
                            "      <td id=\"T_e7b80_row4_col2\" class=\"data row4 col2\" >-0.003277</td>\n",
                            "      <td id=\"T_e7b80_row4_col3\" class=\"data row4 col3\" >0.006098</td>\n",
                            "      <td id=\"T_e7b80_row4_col4\" class=\"data row4 col4\" >1.000000</td>\n",
                            "      <td id=\"T_e7b80_row4_col5\" class=\"data row4 col5\" >-0.068023</td>\n",
                            "    </tr>\n",
                            "    <tr>\n",
                            "      <th id=\"T_e7b80_level0_row5\" class=\"row_heading level0 row5\" >region</th>\n",
                            "      <td id=\"T_e7b80_row5_col0\" class=\"data row5 col0\" >-0.009451</td>\n",
                            "      <td id=\"T_e7b80_row5_col1\" class=\"data row5 col1\" >-0.025217</td>\n",
                            "      <td id=\"T_e7b80_row5_col2\" class=\"data row5 col2\" >-0.270704</td>\n",
                            "      <td id=\"T_e7b80_row5_col3\" class=\"data row5 col3\" >-0.032131</td>\n",
                            "      <td id=\"T_e7b80_row5_col4\" class=\"data row5 col4\" >-0.068023</td>\n",
                            "      <td id=\"T_e7b80_row5_col5\" class=\"data row5 col5\" >1.000000</td>\n",
                            "    </tr>\n",
                            "  </tbody>\n",
                            "</table>\n"
                        ],
                        "text/plain": [
                            "<pandas.io.formats.style.Styler at 0x7f5f38754df0>"
                        ]
                    },
                    "execution_count": 70,
                    "metadata": {},
                    "output_type": "execute_result"
                }
            ],
            "source": [
                "X_train.corr().style.background_gradient(cmap=\"Blues\")"
            ]
        },
        {
            "cell_type": "markdown",
            "metadata": {},
            "source": [
                "La correlación entre las variables es baja."
            ]
        },
        {
            "cell_type": "markdown",
            "metadata": {},
            "source": [
                "**Construcción y evaluación del modelo**"
            ]
        },
        {
            "cell_type": "code",
            "execution_count": 72,
            "metadata": {},
            "outputs": [
                {
                    "name": "stdout",
                    "output_type": "stream",
                    "text": [
                        "(936, 6) (936,)\n",
                        "(402, 6) (402,)\n"
                    ]
                }
            ],
            "source": [
                "print(X_train.shape, y_train.shape)\n",
                "print(X_test_aux.shape, y_test_aux.shape)"
            ]
        },
        {
            "cell_type": "code",
            "execution_count": 73,
            "metadata": {},
            "outputs": [],
            "source": [
                "X_val, X_test, y_val, y_test = train_test_split(X_test_aux, y_test_aux, test_size=0.5, random_state=11)"
            ]
        },
        {
            "cell_type": "code",
            "execution_count": 74,
            "metadata": {},
            "outputs": [
                {
                    "name": "stdout",
                    "output_type": "stream",
                    "text": [
                        "(201, 6) (201,)\n",
                        "(201, 6) (201,)\n"
                    ]
                }
            ],
            "source": [
                "print(X_val.shape, y_val.shape)\n",
                "print(X_test.shape, y_test.shape)"
            ]
        },
        {
            "cell_type": "code",
            "execution_count": 75,
            "metadata": {},
            "outputs": [
                {
                    "data": {
                        "text/html": [
                            "<style>#sk-container-id-3 {color: black;background-color: white;}#sk-container-id-3 pre{padding: 0;}#sk-container-id-3 div.sk-toggleable {background-color: white;}#sk-container-id-3 label.sk-toggleable__label {cursor: pointer;display: block;width: 100%;margin-bottom: 0;padding: 0.3em;box-sizing: border-box;text-align: center;}#sk-container-id-3 label.sk-toggleable__label-arrow:before {content: \"▸\";float: left;margin-right: 0.25em;color: #696969;}#sk-container-id-3 label.sk-toggleable__label-arrow:hover:before {color: black;}#sk-container-id-3 div.sk-estimator:hover label.sk-toggleable__label-arrow:before {color: black;}#sk-container-id-3 div.sk-toggleable__content {max-height: 0;max-width: 0;overflow: hidden;text-align: left;background-color: #f0f8ff;}#sk-container-id-3 div.sk-toggleable__content pre {margin: 0.2em;color: black;border-radius: 0.25em;background-color: #f0f8ff;}#sk-container-id-3 input.sk-toggleable__control:checked~div.sk-toggleable__content {max-height: 200px;max-width: 100%;overflow: auto;}#sk-container-id-3 input.sk-toggleable__control:checked~label.sk-toggleable__label-arrow:before {content: \"▾\";}#sk-container-id-3 div.sk-estimator input.sk-toggleable__control:checked~label.sk-toggleable__label {background-color: #d4ebff;}#sk-container-id-3 div.sk-label input.sk-toggleable__control:checked~label.sk-toggleable__label {background-color: #d4ebff;}#sk-container-id-3 input.sk-hidden--visually {border: 0;clip: rect(1px 1px 1px 1px);clip: rect(1px, 1px, 1px, 1px);height: 1px;margin: -1px;overflow: hidden;padding: 0;position: absolute;width: 1px;}#sk-container-id-3 div.sk-estimator {font-family: monospace;background-color: #f0f8ff;border: 1px dotted black;border-radius: 0.25em;box-sizing: border-box;margin-bottom: 0.5em;}#sk-container-id-3 div.sk-estimator:hover {background-color: #d4ebff;}#sk-container-id-3 div.sk-parallel-item::after {content: \"\";width: 100%;border-bottom: 1px solid gray;flex-grow: 1;}#sk-container-id-3 div.sk-label:hover label.sk-toggleable__label {background-color: #d4ebff;}#sk-container-id-3 div.sk-serial::before {content: \"\";position: absolute;border-left: 1px solid gray;box-sizing: border-box;top: 0;bottom: 0;left: 50%;z-index: 0;}#sk-container-id-3 div.sk-serial {display: flex;flex-direction: column;align-items: center;background-color: white;padding-right: 0.2em;padding-left: 0.2em;position: relative;}#sk-container-id-3 div.sk-item {position: relative;z-index: 1;}#sk-container-id-3 div.sk-parallel {display: flex;align-items: stretch;justify-content: center;background-color: white;position: relative;}#sk-container-id-3 div.sk-item::before, #sk-container-id-3 div.sk-parallel-item::before {content: \"\";position: absolute;border-left: 1px solid gray;box-sizing: border-box;top: 0;bottom: 0;left: 50%;z-index: -1;}#sk-container-id-3 div.sk-parallel-item {display: flex;flex-direction: column;z-index: 1;position: relative;background-color: white;}#sk-container-id-3 div.sk-parallel-item:first-child::after {align-self: flex-end;width: 50%;}#sk-container-id-3 div.sk-parallel-item:last-child::after {align-self: flex-start;width: 50%;}#sk-container-id-3 div.sk-parallel-item:only-child::after {width: 0;}#sk-container-id-3 div.sk-dashed-wrapped {border: 1px dashed gray;margin: 0 0.4em 0.5em 0.4em;box-sizing: border-box;padding-bottom: 0.4em;background-color: white;}#sk-container-id-3 div.sk-label label {font-family: monospace;font-weight: bold;display: inline-block;line-height: 1.2em;}#sk-container-id-3 div.sk-label-container {text-align: center;}#sk-container-id-3 div.sk-container {/* jupyter's `normalize.less` sets `[hidden] { display: none; }` but bootstrap.min.css set `[hidden] { display: none !important; }` so we also need the `!important` here to be able to override the default hidden behavior on the sphinx rendered scikit-learn.org. See: https://github.com/scikit-learn/scikit-learn/issues/21755 */display: inline-block !important;position: relative;}#sk-container-id-3 div.sk-text-repr-fallback {display: none;}</style><div id=\"sk-container-id-3\" class=\"sk-top-container\"><div class=\"sk-text-repr-fallback\"><pre>LinearRegression()</pre><b>In a Jupyter environment, please rerun this cell to show the HTML representation or trust the notebook. <br />On GitHub, the HTML representation is unable to render, please try loading this page with nbviewer.org.</b></div><div class=\"sk-container\" hidden><div class=\"sk-item\"><div class=\"sk-estimator sk-toggleable\"><input class=\"sk-toggleable__control sk-hidden--visually\" id=\"sk-estimator-id-3\" type=\"checkbox\" checked><label for=\"sk-estimator-id-3\" class=\"sk-toggleable__label sk-toggleable__label-arrow\">LinearRegression</label><div class=\"sk-toggleable__content\"><pre>LinearRegression()</pre></div></div></div></div></div>"
                        ],
                        "text/plain": [
                            "LinearRegression()"
                        ]
                    },
                    "execution_count": 75,
                    "metadata": {},
                    "output_type": "execute_result"
                }
            ],
            "source": [
                "lin_reg = LinearRegression()\n",
                "lin_reg.fit(X_train, y_train)"
            ]
        },
        {
            "cell_type": "code",
            "execution_count": 76,
            "metadata": {},
            "outputs": [],
            "source": [
                "y_train_pred = lin_reg.predict(X_train)\n",
                "y_val_pred = lin_reg.predict(X_val)\n",
                "y_test_pred = lin_reg.predict(X_test)"
            ]
        },
        {
            "cell_type": "code",
            "execution_count": 77,
            "metadata": {},
            "outputs": [],
            "source": [
                "RMSE_train = mean_squared_error(y_train, y_train_pred, squared=False)\n",
                "RMSE_val = mean_squared_error(y_val, y_val_pred, squared=False)\n",
                "RMSE_test = mean_squared_error(y_test, y_test_pred, squared=False)"
            ]
        },
        {
            "cell_type": "code",
            "execution_count": 78,
            "metadata": {},
            "outputs": [
                {
                    "name": "stdout",
                    "output_type": "stream",
                    "text": [
                        "RMSE train: 5878\n",
                        "RMSE val: 6433\n",
                        "RMSE test: 6438\n"
                    ]
                }
            ],
            "source": [
                "\n",
                "print(F'RMSE train: {round(RMSE_train)}')\n",
                "print(F'RMSE val: {round(RMSE_val)}')\n",
                "print(F'RMSE test: {round(RMSE_test)}')"
            ]
        },
        {
            "cell_type": "markdown",
            "metadata": {},
            "source": [
                "El valor de RMSE es alto, en parte debido a que se hace un único ajuste cuando en realidad hay tres grupos considerablemente diferenciados.\n",
                "En el análisis exploratorio se vio que pertenecer a uno de los tres grupos depende en gran medida del estatus de fumador, y también del bmi (en caso de ser fumador), por lo cual para minimizar el error puede ser conveniente distinguir entre estos tres casos."
            ]
        },
        {
            "cell_type": "code",
            "execution_count": 79,
            "metadata": {},
            "outputs": [],
            "source": [
                "def reg_lineal_cond(df_cond):\n",
                "    X_cond = df_cond.drop(columns=['charges'])\n",
                "    y_cond = df_cond['charges']\n",
                "    X_train_cond, X_test_aux_cond, y_train_cond, y_test_aux_cond = train_test_split(X_cond, y_cond, test_size=0.3, random_state=35)\n",
                "    X_val_cond, X_test_cond, y_val_cond, y_test_cond = train_test_split(X_test_aux_cond, y_test_aux_cond, test_size=0.5, random_state=10)\n",
                "    lin_reg_cond = LinearRegression()\n",
                "    lin_reg_cond.fit(X_train_cond, y_train_cond)\n",
                "    y_train_cond_pred = lin_reg_cond.predict(X_train_cond)\n",
                "    y_val_cond_pred = lin_reg_cond.predict(X_val_cond)\n",
                "    y_test_cond_pred = lin_reg_cond.predict(X_test_cond)\n",
                "    RMSE_train_cond = mean_squared_error(y_train_cond, y_train_cond_pred, squared=False)\n",
                "    print(F'RMSE train: {round(RMSE_train_cond)}')\n",
                "    RMSE_val_cond = mean_squared_error(y_val_cond, y_val_cond_pred, squared=False)\n",
                "    print(F'RMSE val: {round(RMSE_val_cond)}')\n",
                "    RMSE_test_cond = mean_squared_error(y_test_cond, y_test_cond_pred, squared=False)\n",
                "    print(F'RMSE test: {round(RMSE_test_cond)}')"
            ]
        },
        {
            "cell_type": "markdown",
            "metadata": {},
            "source": [
                "**Modelo para no fumadores**"
            ]
        },
        {
            "cell_type": "code",
            "execution_count": 80,
            "metadata": {},
            "outputs": [
                {
                    "name": "stdout",
                    "output_type": "stream",
                    "text": [
                        "RMSE train: 4769\n",
                        "RMSE val: 4215\n",
                        "RMSE test: 4037\n"
                    ]
                }
            ],
            "source": [
                "df_non_smoker = df[df['smoker']==0]\n",
                "reg_lineal_cond(df_non_smoker)"
            ]
        },
        {
            "cell_type": "markdown",
            "metadata": {},
            "source": [
                "**Modelo para fumadores con bmi<30**"
            ]
        },
        {
            "cell_type": "code",
            "execution_count": 81,
            "metadata": {},
            "outputs": [
                {
                    "name": "stdout",
                    "output_type": "stream",
                    "text": [
                        "RMSE train: 3318\n",
                        "RMSE val: 4034\n",
                        "RMSE test: 3248\n"
                    ]
                }
            ],
            "source": [
                "df_smoker_low_bmi = df[(df['smoker']==1) & (df['bmi']<30)]\n",
                "reg_lineal_cond(df_smoker_low_bmi)"
            ]
        },
        {
            "cell_type": "markdown",
            "metadata": {},
            "source": [
                "**Modelo para fumadores con bmi>30**"
            ]
        },
        {
            "cell_type": "code",
            "execution_count": 82,
            "metadata": {},
            "outputs": [
                {
                    "name": "stdout",
                    "output_type": "stream",
                    "text": [
                        "RMSE train: 3929\n",
                        "RMSE val: 1179\n",
                        "RMSE test: 3581\n"
                    ]
                }
            ],
            "source": [
                "df_smoker_high_bmi = df[(df['smoker']==1) & (df['bmi']>30)]\n",
                "reg_lineal_cond(df_smoker_high_bmi)"
            ]
        },
        {
            "cell_type": "code",
            "execution_count": null,
            "metadata": {},
            "outputs": [],
            "source": [
                "\"\"\"Step 4:\n",
                "\n",
                "Hypertune your model to improve your results.\n",
                "\n",
                "Use the app.py to create your final machine learning modeling pipeline.\n",
                "\n",
                "Save your final model in the 'models' folder.\n",
                "\n",
                "In your README file write a brief summary.\"\"\""
            ]
        }
    ],
    "metadata": {
        "kernelspec": {
            "display_name": "Python 3.8.13 64-bit ('3.8.13')",
            "language": "python",
            "name": "python3"
        },
        "language_info": {
            "codemirror_mode": {
                "name": "ipython",
                "version": 3
            },
            "file_extension": ".py",
            "mimetype": "text/x-python",
            "name": "python",
            "nbconvert_exporter": "python",
            "pygments_lexer": "ipython3",
            "version": "3.8.13"
        },
        "orig_nbformat": 4,
        "vscode": {
            "interpreter": {
                "hash": "110cc1dee26208153f2972f08a2ad52b6a56238dc66d48e87fb757ef2996db56"
            }
        }
    },
    "nbformat": 4,
    "nbformat_minor": 2
}
